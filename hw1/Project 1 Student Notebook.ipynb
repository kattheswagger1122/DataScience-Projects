{
 "cells": [
  {
   "cell_type": "markdown",
   "metadata": {},
   "source": [
    "# Project 1\n",
    "\n",
    "In the coding project below, answer any bolded questions on Canvas via the assigment named Programming Project 1 Quiz Questions.\n",
    "\n",
    "\n",
    "In this assignment, we will be using PennGrader, a Python package built by a former TA for autograding Python notebooks. PennGrader was developed to provide students with instant feedback on their answer. You can submit your answer and know whether it's right or wrong instantly. We then record your most recent answer in our backend database. You will have 100 attempts per test case, which should be more than sufficient.\n",
    "\n",
    "<b>NOTE：Please remember to remove the </b>\n",
    "\n",
    "```python\n",
    "raise notImplementedError\n",
    "```\n",
    "<b>after your implementation, otherwise the cell will not compile.</b>"
   ]
  },
  {
   "cell_type": "markdown",
   "metadata": {},
   "source": [
    "## Getting Setup\n",
    "Please run the below cells to get setup with the autograder. If you need to install packages, please uncomment and try the following lines; if they do not work, please try running them in the terminal without the `!` sign."
   ]
  },
  {
   "cell_type": "code",
   "execution_count": 2,
   "metadata": {},
   "outputs": [],
   "source": [
    "# %%capture\n",
    "# !pip install penngrader --user\n",
    "# !pip install seaborn --user"
   ]
  },
  {
   "cell_type": "markdown",
   "metadata": {},
   "source": [
    "Let's try PennGrader out! Fill in the cell below with your PennID and then run the following cell to initialize the grader.\n",
    "\n",
    "<font color='red'>Warning:</font> Please make sure you only have one copy of the student notebook in your directory in Codio upon submission. The autograder looks for the variable `STUDENT_ID` across all notebooks, so if there is a duplicate notebook, it will fail."
   ]
  },
  {
   "cell_type": "code",
   "execution_count": 3,
   "metadata": {},
   "outputs": [],
   "source": [
    "#PLEASE ENSURE YOUR STUDENT_ID IS ENTERED AS AN INT (NOT A STRING). IF NOT, THE AUTOGRADER WON'T KNOW WHO \n",
    "#TO ASSIGN POINTS TO YOU IN OUR BACKEND\n",
    "\n",
    "STUDENT_ID = 42294124                # YOUR 8-DIGIT PENNID GOES HERE\n",
    "STUDENT_NAME = \"Katrina Shih\"     # YOUR FULL NAME GOES HERE"
   ]
  },
  {
   "cell_type": "code",
   "execution_count": 4,
   "metadata": {},
   "outputs": [],
   "source": [
    "import penngrader.grader\n",
    "\n",
    "grader = penngrader.grader.PennGrader(homework_id = 'ESE542_Online_Su_2021_HW1', student_id = STUDENT_ID)"
   ]
  },
  {
   "cell_type": "markdown",
   "metadata": {},
   "source": [
    "## Imports\n",
    "\n",
    "It is important for all (or most) imports to go on the top of a notebook so that other users know which packages need to be installed. In projects that use Anaconda, it is also common to see a file named `requirements.txt` listing all the packages that one has to install."
   ]
  },
  {
   "cell_type": "markdown",
   "metadata": {},
   "source": [
    "1. First, import all the necessary modules using the import function. For this exercise, we will be mainly using `pandas`. In the future, we will also be using `numpy`, `seaborn`, and `matplotlib`. To learn more about these packages, you can read through the documentation: \n",
    "\n",
    "    - https://pandas.pydata.org/\n",
    "    - https://numpy.org/\n",
    "    - https://seaborn.pydata.org/\n",
    "    - https://matplotlib.org/"
   ]
  },
  {
   "cell_type": "code",
   "execution_count": 5,
   "metadata": {},
   "outputs": [],
   "source": [
    "# Let's import the relevant Python packages here\n",
    "# Feel free to import any other packages for this project\n",
    "\n",
    "#Data Wrangling\n",
    "import numpy as np\n",
    "import pandas as pd\n",
    "\n",
    "#Plotting\n",
    "import matplotlib as mpl\n",
    "import matplotlib.pyplot as plt\n",
    "import seaborn as sns\n",
    "\n",
    "%matplotlib inline"
   ]
  },
  {
   "cell_type": "markdown",
   "metadata": {},
   "source": [
    "## Data\n",
    "\n",
    "In the following exercise, we will familiarize ourselves with Python by studying the College\n",
    "dataset, which can be found in the file `College.csv`. This dataset contains the following variables\n",
    "from 777 different universities and colleges in the US:\n",
    "\n",
    "\n",
    "| Column | Description | \n",
    "|:-|:-|\n",
    "|Private | Public/private indicator|\n",
    "|Apps | Number of applications received|\n",
    "|Accept | Number of applicants accepted|\n",
    "|Enroll | Number of new students enrolled|\n",
    "|Top10perc | New students from top 10\\% of high school class|\n",
    "|Top25perc | New students from top 25\\% of high school class|\n",
    "|F.Undergrad | Number of full-time undergraduates|\n",
    "|P.Undergrad | Number of part-time undergraduates|\n",
    "|Outstate | Out-of-state tuition|\n",
    "|Room.Board | Room and board costs|\n",
    "|Books | Estimated book costs|\n",
    "|Personal | Estimated personal spending|\n",
    "|PhD | Percent of faculty with Ph.D.’s|\n",
    "|Terminal | Percent of faculty with terminal degree|\n",
    "|S.F.Ratio | Student/faculty ratio|\n",
    "|Perc.alumni | Percent of alumni who donate|\n",
    "|Expend | Instructional expenditure per student|\n",
    "|Grad.Rate | Graduation rate|"
   ]
  },
  {
   "cell_type": "markdown",
   "metadata": {},
   "source": [
    "2. Load the College dataset using `pandas`"
   ]
  },
  {
   "cell_type": "code",
   "execution_count": 6,
   "metadata": {},
   "outputs": [],
   "source": [
    "college = pd.read_csv('College.csv')"
   ]
  },
  {
   "cell_type": "markdown",
   "metadata": {},
   "source": [
    "3. Use the `head()` function to view the data. "
   ]
  },
  {
   "cell_type": "code",
   "execution_count": 7,
   "metadata": {
    "scrolled": false
   },
   "outputs": [
    {
     "name": "stdout",
     "output_type": "stream",
     "text": [
      "  Private  Apps  Accept  Enroll  Top10perc  Top25perc  F.Undergrad  \\\n",
      "0     Yes  1660    1232     721         23         52         2885   \n",
      "1     Yes  2186    1924     512         16         29         2683   \n",
      "2     Yes  1428    1097     336         22         50         1036   \n",
      "3     Yes   417     349     137         60         89          510   \n",
      "4     Yes   193     146      55         16         44          249   \n",
      "5     Yes   587     479     158         38         62          678   \n",
      "6     Yes   353     340     103         17         45          416   \n",
      "7     Yes  1899    1720     489         37         68         1594   \n",
      "8     Yes  1038     839     227         30         63          973   \n",
      "9     Yes   582     498     172         21         44          799   \n",
      "\n",
      "   P.Undergrad  Outstate  Room.Board  Books  Personal  PhD  Terminal  \\\n",
      "0          537      7440        3300    450      2200   70        78   \n",
      "1         1227     12280        6450    750      1500   29        30   \n",
      "2           99     11250        3750    400      1165   53        66   \n",
      "3           63     12960        5450    450       875   92        97   \n",
      "4          869      7560        4120    800      1500   76        72   \n",
      "5           41     13500        3335    500       675   67        73   \n",
      "6          230     13290        5720    500      1500   90        93   \n",
      "7           32     13868        4826    450       850   89       100   \n",
      "8          306     15595        4400    300       500   79        84   \n",
      "9           78     10468        3380    660      1800   40        41   \n",
      "\n",
      "   S.F.Ratio  perc.alumni  Expend  Grad.Rate                         Names  \n",
      "0       18.1           12    7041         60  Abilene Christian University  \n",
      "1       12.2           16   10527         56            Adelphi University  \n",
      "2       12.9           30    8735         54                Adrian College  \n",
      "3        7.7           37   19016         59           Agnes Scott College  \n",
      "4       11.9            2   10922         15     Alaska Pacific University  \n",
      "5        9.4           11    9727         55             Albertson College  \n",
      "6       11.5           26    8861         63       Albertus Magnus College  \n",
      "7       13.7           37   11487         73                Albion College  \n",
      "8       11.3           23   11644         80              Albright College  \n",
      "9       11.5           15    8991         52     Alderson-Broaddus College  \n"
     ]
    }
   ],
   "source": [
    "print(college.head(10))"
   ]
  },
  {
   "cell_type": "markdown",
   "metadata": {},
   "source": [
    "4. Notice that there is a column ‘Names’ of each university’s name. As we don’t want to use these names as predictors, they are natural candidates to index our data. We can do this using the following function:\n",
    "\n",
    "```Python\n",
    "#college is the dataframe\n",
    "college.set_index('Names', inplace = True)```"
   ]
  },
  {
   "cell_type": "code",
   "execution_count": 8,
   "metadata": {},
   "outputs": [],
   "source": [
    "college.set_index('Names', inplace = True)"
   ]
  },
  {
   "cell_type": "markdown",
   "metadata": {},
   "source": [
    "5. Use the `head()` function again. You should now see that the indices have been replaced with the name of each university in the data set. This means that Python has given each row a name corresponding to the appropriate university. Python will not try to perform calculations on the row names."
   ]
  },
  {
   "cell_type": "code",
   "execution_count": 9,
   "metadata": {},
   "outputs": [
    {
     "name": "stdout",
     "output_type": "stream",
     "text": [
      "                             Private  Apps  Accept  Enroll  Top10perc  \\\n",
      "Names                                                                   \n",
      "Abilene Christian University     Yes  1660    1232     721         23   \n",
      "\n",
      "                              Top25perc  F.Undergrad  P.Undergrad  Outstate  \\\n",
      "Names                                                                         \n",
      "Abilene Christian University         52         2885          537      7440   \n",
      "\n",
      "                              Room.Board  Books  Personal  PhD  Terminal  \\\n",
      "Names                                                                      \n",
      "Abilene Christian University        3300    450      2200   70        78   \n",
      "\n",
      "                              S.F.Ratio  perc.alumni  Expend  Grad.Rate  \n",
      "Names                                                                    \n",
      "Abilene Christian University       18.1           12    7041         60  \n"
     ]
    }
   ],
   "source": [
    "print(college.head(1))"
   ]
  },
  {
   "cell_type": "markdown",
   "metadata": {},
   "source": [
    "6. Use the `info()` function to check and produce a numerical summary of your variables."
   ]
  },
  {
   "cell_type": "code",
   "execution_count": 10,
   "metadata": {
    "scrolled": true,
    "tags": []
   },
   "outputs": [
    {
     "name": "stdout",
     "output_type": "stream",
     "text": [
      "<class 'pandas.core.frame.DataFrame'>\n",
      "Index: 777 entries, Abilene Christian University to York College of Pennsylvania\n",
      "Data columns (total 18 columns):\n",
      "Private        777 non-null object\n",
      "Apps           777 non-null int64\n",
      "Accept         777 non-null int64\n",
      "Enroll         777 non-null int64\n",
      "Top10perc      777 non-null int64\n",
      "Top25perc      777 non-null int64\n",
      "F.Undergrad    777 non-null int64\n",
      "P.Undergrad    777 non-null int64\n",
      "Outstate       777 non-null int64\n",
      "Room.Board     777 non-null int64\n",
      "Books          777 non-null int64\n",
      "Personal       777 non-null int64\n",
      "PhD            777 non-null int64\n",
      "Terminal       777 non-null int64\n",
      "S.F.Ratio      777 non-null float64\n",
      "perc.alumni    777 non-null int64\n",
      "Expend         777 non-null int64\n",
      "Grad.Rate      777 non-null int64\n",
      "dtypes: float64(1), int64(16), object(1)\n",
      "memory usage: 115.3+ KB\n"
     ]
    }
   ],
   "source": [
    "college.info()"
   ]
  },
  {
   "cell_type": "markdown",
   "metadata": {},
   "source": [
    "7. Examine if there are any duplicates and drop them if needed. Hint: It is perfectly fine to observe no duplicates in the dataset, but it is good practice to check anyhow. Before dropping duplicates, it is also good practice to check whether the duplicates contained any different data, since data entry errors frequently occur."
   ]
  },
  {
   "cell_type": "code",
   "execution_count": 11,
   "metadata": {
    "scrolled": true,
    "tags": []
   },
   "outputs": [
    {
     "name": "stdout",
     "output_type": "stream",
     "text": [
      "                               Private   Apps  Accept  Enroll  Top10perc  \\\n",
      "Names                                                                      \n",
      "Abilene Christian University       Yes   1660    1232     721         23   \n",
      "Adelphi University                 Yes   2186    1924     512         16   \n",
      "Adrian College                     Yes   1428    1097     336         22   \n",
      "Agnes Scott College                Yes    417     349     137         60   \n",
      "Alaska Pacific University          Yes    193     146      55         16   \n",
      "...                                ...    ...     ...     ...        ...   \n",
      "Worcester State College             No   2197    1515     543          4   \n",
      "Xavier University                  Yes   1959    1805     695         24   \n",
      "Xavier University of Louisiana     Yes   2097    1915     695         34   \n",
      "Yale University                    Yes  10705    2453    1317         95   \n",
      "York College of Pennsylvania       Yes   2989    1855     691         28   \n",
      "\n",
      "                                Top25perc  F.Undergrad  P.Undergrad  Outstate  \\\n",
      "Names                                                                           \n",
      "Abilene Christian University           52         2885          537      7440   \n",
      "Adelphi University                     29         2683         1227     12280   \n",
      "Adrian College                         50         1036           99     11250   \n",
      "Agnes Scott College                    89          510           63     12960   \n",
      "Alaska Pacific University              44          249          869      7560   \n",
      "...                                   ...          ...          ...       ...   \n",
      "Worcester State College                26         3089         2029      6797   \n",
      "Xavier University                      47         2849         1107     11520   \n",
      "Xavier University of Louisiana         61         2793          166      6900   \n",
      "Yale University                        99         5217           83     19840   \n",
      "York College of Pennsylvania           63         2988         1726      4990   \n",
      "\n",
      "                                Room.Board  Books  Personal  PhD  Terminal  \\\n",
      "Names                                                                        \n",
      "Abilene Christian University          3300    450      2200   70        78   \n",
      "Adelphi University                    6450    750      1500   29        30   \n",
      "Adrian College                        3750    400      1165   53        66   \n",
      "Agnes Scott College                   5450    450       875   92        97   \n",
      "Alaska Pacific University             4120    800      1500   76        72   \n",
      "...                                    ...    ...       ...  ...       ...   \n",
      "Worcester State College               3900    500      1200   60        60   \n",
      "Xavier University                     4960    600      1250   73        75   \n",
      "Xavier University of Louisiana        4200    617       781   67        75   \n",
      "Yale University                       6510    630      2115   96        96   \n",
      "York College of Pennsylvania          3560    500      1250   75        75   \n",
      "\n",
      "                                S.F.Ratio  perc.alumni  Expend  Grad.Rate  \n",
      "Names                                                                      \n",
      "Abilene Christian University         18.1           12    7041         60  \n",
      "Adelphi University                   12.2           16   10527         56  \n",
      "Adrian College                       12.9           30    8735         54  \n",
      "Agnes Scott College                   7.7           37   19016         59  \n",
      "Alaska Pacific University            11.9            2   10922         15  \n",
      "...                                   ...          ...     ...        ...  \n",
      "Worcester State College              21.0           14    4469         40  \n",
      "Xavier University                    13.3           31    9189         83  \n",
      "Xavier University of Louisiana       14.4           20    8323         49  \n",
      "Yale University                       5.8           49   40386         99  \n",
      "York College of Pennsylvania         18.1           28    4509         99  \n",
      "\n",
      "[777 rows x 18 columns]\n"
     ]
    }
   ],
   "source": [
    "college.drop_duplicates(subset=None, inplace=True)\n",
    "print(college)"
   ]
  },
  {
   "cell_type": "markdown",
   "metadata": {},
   "source": [
    "8. Replace any missing values in the `Apps’ column with 0. This dataframe will henceforth be our original dataframe. Hint: Na means no value, NaN means Not a Number. It is perfectly fine if there are no Na's in our dataset, but we should always check just in case."
   ]
  },
  {
   "cell_type": "code",
   "execution_count": 12,
   "metadata": {},
   "outputs": [
    {
     "name": "stdout",
     "output_type": "stream",
     "text": [
      "                             Private  Apps  Accept  Enroll  Top10perc  \\\n",
      "Names                                                                   \n",
      "Abilene Christian University     Yes  1660    1232     721         23   \n",
      "Adelphi University               Yes  2186    1924     512         16   \n",
      "Adrian College                   Yes  1428    1097     336         22   \n",
      "Agnes Scott College              Yes   417     349     137         60   \n",
      "Alaska Pacific University        Yes   193     146      55         16   \n",
      "\n",
      "                              Top25perc  F.Undergrad  P.Undergrad  Outstate  \\\n",
      "Names                                                                         \n",
      "Abilene Christian University         52         2885          537      7440   \n",
      "Adelphi University                   29         2683         1227     12280   \n",
      "Adrian College                       50         1036           99     11250   \n",
      "Agnes Scott College                  89          510           63     12960   \n",
      "Alaska Pacific University            44          249          869      7560   \n",
      "\n",
      "                              Room.Board  Books  Personal  PhD  Terminal  \\\n",
      "Names                                                                      \n",
      "Abilene Christian University        3300    450      2200   70        78   \n",
      "Adelphi University                  6450    750      1500   29        30   \n",
      "Adrian College                      3750    400      1165   53        66   \n",
      "Agnes Scott College                 5450    450       875   92        97   \n",
      "Alaska Pacific University           4120    800      1500   76        72   \n",
      "\n",
      "                              S.F.Ratio  perc.alumni  Expend  Grad.Rate  \n",
      "Names                                                                    \n",
      "Abilene Christian University       18.1           12    7041         60  \n",
      "Adelphi University                 12.2           16   10527         56  \n",
      "Adrian College                     12.9           30    8735         54  \n",
      "Agnes Scott College                 7.7           37   19016         59  \n",
      "Alaska Pacific University          11.9            2   10922         15  \n"
     ]
    }
   ],
   "source": [
    "# Apply the function\n",
    "college[\"Apps\"].fillna(0, inplace = True)\n",
    " \n",
    "# print the DataFrame\n",
    "print(college.head(5))"
   ]
  },
  {
   "cell_type": "markdown",
   "metadata": {},
   "source": [
    "9. Find the college with the least out-of-state tuition and name this variable `college_least_tuition`. The variable should return the name of a college, not its tuition. <b>Answer on Canvas: Which college in this dataset has the least amount of out-of-state tuition?</b>"
   ]
  },
  {
   "cell_type": "code",
   "execution_count": 13,
   "metadata": {
    "scrolled": false,
    "tags": []
   },
   "outputs": [
    {
     "name": "stdout",
     "output_type": "stream",
     "text": [
      "Brigham Young University at Provo\n"
     ]
    }
   ],
   "source": [
    "college_least_tuition = college[college.Outstate == college['Outstate'].min()].index[0]\n",
    "print(college_least_tuition)"
   ]
  },
  {
   "cell_type": "code",
   "execution_count": 14,
   "metadata": {
    "deletable": false
   },
   "outputs": [
    {
     "name": "stdout",
     "output_type": "stream",
     "text": [
      "Correct! You earned 3/3 points. You are a star!\n",
      "\n",
      "Your submission has been successfully recorded in the gradebook.\n"
     ]
    }
   ],
   "source": [
    "grader.grade(test_case_id = 'college_least_tuition_test', answer = college_least_tuition)"
   ]
  },
  {
   "cell_type": "markdown",
   "metadata": {},
   "source": [
    "10. From the original dataframe, select the ‘PhD’ column and name this dataframe `phd_column`. Find the length of this column and name this variable `phd_column_length`. <b>Enter the value of phd_column_length on Canvas.</b> Hint: Make sure to use double brackets to select a Pandas dataframe and single brackets to select a Pandas series. You will notice the difference in formatting: Pandas dataframes are neatly formatted, while Pandas series are not formatted. A Pandas dataframe gives extra functionality compared to a Pandas series, such as appending other dataframes and selecting multiple columns. A Pandas series is essentially a Numpy column. "
   ]
  },
  {
   "cell_type": "code",
   "execution_count": 15,
   "metadata": {
    "scrolled": true
   },
   "outputs": [
    {
     "data": {
      "text/html": [
       "<div>\n",
       "<style scoped>\n",
       "    .dataframe tbody tr th:only-of-type {\n",
       "        vertical-align: middle;\n",
       "    }\n",
       "\n",
       "    .dataframe tbody tr th {\n",
       "        vertical-align: top;\n",
       "    }\n",
       "\n",
       "    .dataframe thead th {\n",
       "        text-align: right;\n",
       "    }\n",
       "</style>\n",
       "<table border=\"1\" class=\"dataframe\">\n",
       "  <thead>\n",
       "    <tr style=\"text-align: right;\">\n",
       "      <th></th>\n",
       "      <th>PhD</th>\n",
       "    </tr>\n",
       "    <tr>\n",
       "      <th>Names</th>\n",
       "      <th></th>\n",
       "    </tr>\n",
       "  </thead>\n",
       "  <tbody>\n",
       "    <tr>\n",
       "      <th>Abilene Christian University</th>\n",
       "      <td>70</td>\n",
       "    </tr>\n",
       "    <tr>\n",
       "      <th>Adelphi University</th>\n",
       "      <td>29</td>\n",
       "    </tr>\n",
       "    <tr>\n",
       "      <th>Adrian College</th>\n",
       "      <td>53</td>\n",
       "    </tr>\n",
       "    <tr>\n",
       "      <th>Agnes Scott College</th>\n",
       "      <td>92</td>\n",
       "    </tr>\n",
       "    <tr>\n",
       "      <th>Alaska Pacific University</th>\n",
       "      <td>76</td>\n",
       "    </tr>\n",
       "    <tr>\n",
       "      <th>...</th>\n",
       "      <td>...</td>\n",
       "    </tr>\n",
       "    <tr>\n",
       "      <th>Worcester State College</th>\n",
       "      <td>60</td>\n",
       "    </tr>\n",
       "    <tr>\n",
       "      <th>Xavier University</th>\n",
       "      <td>73</td>\n",
       "    </tr>\n",
       "    <tr>\n",
       "      <th>Xavier University of Louisiana</th>\n",
       "      <td>67</td>\n",
       "    </tr>\n",
       "    <tr>\n",
       "      <th>Yale University</th>\n",
       "      <td>96</td>\n",
       "    </tr>\n",
       "    <tr>\n",
       "      <th>York College of Pennsylvania</th>\n",
       "      <td>75</td>\n",
       "    </tr>\n",
       "  </tbody>\n",
       "</table>\n",
       "<p>777 rows × 1 columns</p>\n",
       "</div>"
      ],
      "text/plain": [
       "                                PhD\n",
       "Names                              \n",
       "Abilene Christian University     70\n",
       "Adelphi University               29\n",
       "Adrian College                   53\n",
       "Agnes Scott College              92\n",
       "Alaska Pacific University        76\n",
       "...                             ...\n",
       "Worcester State College          60\n",
       "Xavier University                73\n",
       "Xavier University of Louisiana   67\n",
       "Yale University                  96\n",
       "York College of Pennsylvania     75\n",
       "\n",
       "[777 rows x 1 columns]"
      ]
     },
     "execution_count": 15,
     "metadata": {},
     "output_type": "execute_result"
    }
   ],
   "source": [
    "# Double bracket for dataframe\n",
    "phd_column = college[[\"PhD\"]]\n",
    "phd_column"
   ]
  },
  {
   "cell_type": "code",
   "execution_count": 16,
   "metadata": {
    "deletable": false
   },
   "outputs": [
    {
     "name": "stdout",
     "output_type": "stream",
     "text": [
      "Correct! You earned 3/3 points. You are a star!\n",
      "\n",
      "Your submission has been successfully recorded in the gradebook.\n"
     ]
    }
   ],
   "source": [
    "grader.grade(test_case_id = 'phd_column_test', answer = phd_column)"
   ]
  },
  {
   "cell_type": "code",
   "execution_count": 17,
   "metadata": {
    "tags": []
   },
   "outputs": [
    {
     "name": "stdout",
     "output_type": "stream",
     "text": [
      "777\n"
     ]
    }
   ],
   "source": [
    "phd_column_length = phd_column[\"PhD\"].count()\n",
    "print(phd_column_length)"
   ]
  },
  {
   "cell_type": "code",
   "execution_count": 18,
   "metadata": {
    "deletable": false
   },
   "outputs": [
    {
     "name": "stdout",
     "output_type": "stream",
     "text": [
      "Correct! You earned 1/1 points. You are a star!\n",
      "\n",
      "Your submission has been successfully recorded in the gradebook.\n"
     ]
    }
   ],
   "source": [
    "grader.grade(test_case_id = 'phd_column_length_test', answer = phd_column_length)"
   ]
  },
  {
   "cell_type": "markdown",
   "metadata": {},
   "source": [
    "11. From the original dataframe, select both the ‘Private’ and ‘Top10perc’ columns, and slice them such that only the rows with index 15 and 16 remain. Name this dataframe `private_top10`. From this dataframe, find the length of the filtered ‘Private’ column and name this variable `private_column_length`. <b>Enter the value of private_column_length on Canvas.</b>"
   ]
  },
  {
   "cell_type": "code",
   "execution_count": 19,
   "metadata": {},
   "outputs": [
    {
     "data": {
      "text/html": [
       "<div>\n",
       "<style scoped>\n",
       "    .dataframe tbody tr th:only-of-type {\n",
       "        vertical-align: middle;\n",
       "    }\n",
       "\n",
       "    .dataframe tbody tr th {\n",
       "        vertical-align: top;\n",
       "    }\n",
       "\n",
       "    .dataframe thead th {\n",
       "        text-align: right;\n",
       "    }\n",
       "</style>\n",
       "<table border=\"1\" class=\"dataframe\">\n",
       "  <thead>\n",
       "    <tr style=\"text-align: right;\">\n",
       "      <th></th>\n",
       "      <th>Private</th>\n",
       "      <th>Top10perc</th>\n",
       "    </tr>\n",
       "    <tr>\n",
       "      <th>Names</th>\n",
       "      <th></th>\n",
       "      <th></th>\n",
       "    </tr>\n",
       "  </thead>\n",
       "  <tbody>\n",
       "    <tr>\n",
       "      <th>American International College</th>\n",
       "      <td>Yes</td>\n",
       "      <td>9</td>\n",
       "    </tr>\n",
       "    <tr>\n",
       "      <th>Amherst College</th>\n",
       "      <td>Yes</td>\n",
       "      <td>83</td>\n",
       "    </tr>\n",
       "  </tbody>\n",
       "</table>\n",
       "</div>"
      ],
      "text/plain": [
       "                               Private  Top10perc\n",
       "Names                                            \n",
       "American International College     Yes          9\n",
       "Amherst College                    Yes         83"
      ]
     },
     "execution_count": 19,
     "metadata": {},
     "output_type": "execute_result"
    }
   ],
   "source": [
    "# Double bracket to obtain multiple columns\n",
    "private_top10 = college[['Private', 'Top10perc']].iloc[[15,16]]\n",
    "private_top10\n"
   ]
  },
  {
   "cell_type": "code",
   "execution_count": 20,
   "metadata": {
    "deletable": false
   },
   "outputs": [
    {
     "name": "stdout",
     "output_type": "stream",
     "text": [
      "Correct! You earned 3/3 points. You are a star!\n",
      "\n",
      "Your submission has been successfully recorded in the gradebook.\n"
     ]
    }
   ],
   "source": [
    "grader.grade(test_case_id = 'private_top_10_test', answer = private_top10)"
   ]
  },
  {
   "cell_type": "code",
   "execution_count": 21,
   "metadata": {
    "scrolled": true,
    "tags": []
   },
   "outputs": [
    {
     "name": "stdout",
     "output_type": "stream",
     "text": [
      "2\n"
     ]
    }
   ],
   "source": [
    "private_column_length = private_top10[\"Private\"].count()\n",
    "print(private_column_length)\n"
   ]
  },
  {
   "cell_type": "code",
   "execution_count": 22,
   "metadata": {
    "deletable": false
   },
   "outputs": [
    {
     "name": "stdout",
     "output_type": "stream",
     "text": [
      "Correct! You earned 2/2 points. You are a star!\n",
      "\n",
      "Your submission has been successfully recorded in the gradebook.\n"
     ]
    }
   ],
   "source": [
    "grader.grade(test_case_id = 'private_column_length_test', answer = private_column_length)"
   ]
  },
  {
   "cell_type": "markdown",
   "metadata": {},
   "source": [
    "12. From the original dataframe, select the row that only contains data about the “University of Pennsylvania”. Note that many other colleges share the same name, but there is only one unique University of Pennsylvania. Name this dataframe `penn`."
   ]
  },
  {
   "cell_type": "code",
   "execution_count": 23,
   "metadata": {
    "scrolled": false
   },
   "outputs": [
    {
     "data": {
      "text/html": [
       "<div>\n",
       "<style scoped>\n",
       "    .dataframe tbody tr th:only-of-type {\n",
       "        vertical-align: middle;\n",
       "    }\n",
       "\n",
       "    .dataframe tbody tr th {\n",
       "        vertical-align: top;\n",
       "    }\n",
       "\n",
       "    .dataframe thead th {\n",
       "        text-align: right;\n",
       "    }\n",
       "</style>\n",
       "<table border=\"1\" class=\"dataframe\">\n",
       "  <thead>\n",
       "    <tr style=\"text-align: right;\">\n",
       "      <th></th>\n",
       "      <th>Private</th>\n",
       "      <th>Apps</th>\n",
       "      <th>Accept</th>\n",
       "      <th>Enroll</th>\n",
       "      <th>Top10perc</th>\n",
       "      <th>Top25perc</th>\n",
       "      <th>F.Undergrad</th>\n",
       "      <th>P.Undergrad</th>\n",
       "      <th>Outstate</th>\n",
       "      <th>Room.Board</th>\n",
       "      <th>Books</th>\n",
       "      <th>Personal</th>\n",
       "      <th>PhD</th>\n",
       "      <th>Terminal</th>\n",
       "      <th>S.F.Ratio</th>\n",
       "      <th>perc.alumni</th>\n",
       "      <th>Expend</th>\n",
       "      <th>Grad.Rate</th>\n",
       "    </tr>\n",
       "    <tr>\n",
       "      <th>Names</th>\n",
       "      <th></th>\n",
       "      <th></th>\n",
       "      <th></th>\n",
       "      <th></th>\n",
       "      <th></th>\n",
       "      <th></th>\n",
       "      <th></th>\n",
       "      <th></th>\n",
       "      <th></th>\n",
       "      <th></th>\n",
       "      <th></th>\n",
       "      <th></th>\n",
       "      <th></th>\n",
       "      <th></th>\n",
       "      <th></th>\n",
       "      <th></th>\n",
       "      <th></th>\n",
       "      <th></th>\n",
       "    </tr>\n",
       "  </thead>\n",
       "  <tbody>\n",
       "    <tr>\n",
       "      <th>University of Pennsylvania</th>\n",
       "      <td>Yes</td>\n",
       "      <td>12394</td>\n",
       "      <td>5232</td>\n",
       "      <td>2464</td>\n",
       "      <td>85</td>\n",
       "      <td>100</td>\n",
       "      <td>9205</td>\n",
       "      <td>531</td>\n",
       "      <td>17020</td>\n",
       "      <td>7270</td>\n",
       "      <td>500</td>\n",
       "      <td>1544</td>\n",
       "      <td>95</td>\n",
       "      <td>96</td>\n",
       "      <td>6.3</td>\n",
       "      <td>38</td>\n",
       "      <td>25765</td>\n",
       "      <td>93</td>\n",
       "    </tr>\n",
       "  </tbody>\n",
       "</table>\n",
       "</div>"
      ],
      "text/plain": [
       "                           Private   Apps  Accept  Enroll  Top10perc  \\\n",
       "Names                                                                  \n",
       "University of Pennsylvania     Yes  12394    5232    2464         85   \n",
       "\n",
       "                            Top25perc  F.Undergrad  P.Undergrad  Outstate  \\\n",
       "Names                                                                       \n",
       "University of Pennsylvania        100         9205          531     17020   \n",
       "\n",
       "                            Room.Board  Books  Personal  PhD  Terminal  \\\n",
       "Names                                                                    \n",
       "University of Pennsylvania        7270    500      1544   95        96   \n",
       "\n",
       "                            S.F.Ratio  perc.alumni  Expend  Grad.Rate  \n",
       "Names                                                                  \n",
       "University of Pennsylvania        6.3           38   25765         93  "
      ]
     },
     "execution_count": 23,
     "metadata": {},
     "output_type": "execute_result"
    }
   ],
   "source": [
    "penn = college.loc[['University of Pennsylvania']]\n",
    "penn"
   ]
  },
  {
   "cell_type": "code",
   "execution_count": 24,
   "metadata": {
    "deletable": false
   },
   "outputs": [
    {
     "name": "stdout",
     "output_type": "stream",
     "text": [
      "Correct! You earned 4/4 points. You are a star!\n",
      "\n",
      "Your submission has been successfully recorded in the gradebook.\n"
     ]
    }
   ],
   "source": [
    "grader.grade(test_case_id = 'penn_test', answer = penn)"
   ]
  },
  {
   "cell_type": "markdown",
   "metadata": {},
   "source": [
    "13. From the original dataframe, select the rows that contain all colleges with the name “Penn” included. The “P” should be capitalized. Name this dataframe `many_penns`. Comment on your observations. <b>Answer on Canvas: How many universities are there in this dataset that include “Penn”? </b>"
   ]
  },
  {
   "cell_type": "code",
   "execution_count": 26,
   "metadata": {
    "scrolled": false
   },
   "outputs": [
    {
     "data": {
      "text/html": [
       "<div>\n",
       "<style scoped>\n",
       "    .dataframe tbody tr th:only-of-type {\n",
       "        vertical-align: middle;\n",
       "    }\n",
       "\n",
       "    .dataframe tbody tr th {\n",
       "        vertical-align: top;\n",
       "    }\n",
       "\n",
       "    .dataframe thead th {\n",
       "        text-align: right;\n",
       "    }\n",
       "</style>\n",
       "<table border=\"1\" class=\"dataframe\">\n",
       "  <thead>\n",
       "    <tr style=\"text-align: right;\">\n",
       "      <th></th>\n",
       "      <th>Private</th>\n",
       "      <th>Apps</th>\n",
       "      <th>Accept</th>\n",
       "      <th>Enroll</th>\n",
       "      <th>Top10perc</th>\n",
       "      <th>Top25perc</th>\n",
       "      <th>F.Undergrad</th>\n",
       "      <th>P.Undergrad</th>\n",
       "      <th>Outstate</th>\n",
       "      <th>Room.Board</th>\n",
       "      <th>Books</th>\n",
       "      <th>Personal</th>\n",
       "      <th>PhD</th>\n",
       "      <th>Terminal</th>\n",
       "      <th>S.F.Ratio</th>\n",
       "      <th>perc.alumni</th>\n",
       "      <th>Expend</th>\n",
       "      <th>Grad.Rate</th>\n",
       "    </tr>\n",
       "    <tr>\n",
       "      <th>Names</th>\n",
       "      <th></th>\n",
       "      <th></th>\n",
       "      <th></th>\n",
       "      <th></th>\n",
       "      <th></th>\n",
       "      <th></th>\n",
       "      <th></th>\n",
       "      <th></th>\n",
       "      <th></th>\n",
       "      <th></th>\n",
       "      <th></th>\n",
       "      <th></th>\n",
       "      <th></th>\n",
       "      <th></th>\n",
       "      <th></th>\n",
       "      <th></th>\n",
       "      <th></th>\n",
       "      <th></th>\n",
       "    </tr>\n",
       "  </thead>\n",
       "  <tbody>\n",
       "    <tr>\n",
       "      <th>Bloomsburg Univ. of Pennsylvania</th>\n",
       "      <td>No</td>\n",
       "      <td>6773</td>\n",
       "      <td>3028</td>\n",
       "      <td>1025</td>\n",
       "      <td>15</td>\n",
       "      <td>55</td>\n",
       "      <td>5847</td>\n",
       "      <td>946</td>\n",
       "      <td>7844</td>\n",
       "      <td>2948</td>\n",
       "      <td>500</td>\n",
       "      <td>1680</td>\n",
       "      <td>66</td>\n",
       "      <td>68</td>\n",
       "      <td>18.0</td>\n",
       "      <td>19</td>\n",
       "      <td>7041</td>\n",
       "      <td>75</td>\n",
       "    </tr>\n",
       "    <tr>\n",
       "      <th>Lock Haven University of Pennsylvania</th>\n",
       "      <td>No</td>\n",
       "      <td>3570</td>\n",
       "      <td>2215</td>\n",
       "      <td>651</td>\n",
       "      <td>17</td>\n",
       "      <td>41</td>\n",
       "      <td>3390</td>\n",
       "      <td>325</td>\n",
       "      <td>7352</td>\n",
       "      <td>3620</td>\n",
       "      <td>225</td>\n",
       "      <td>500</td>\n",
       "      <td>47</td>\n",
       "      <td>55</td>\n",
       "      <td>16.1</td>\n",
       "      <td>14</td>\n",
       "      <td>6374</td>\n",
       "      <td>63</td>\n",
       "    </tr>\n",
       "    <tr>\n",
       "      <th>Millersville University of Penn.</th>\n",
       "      <td>No</td>\n",
       "      <td>6011</td>\n",
       "      <td>3075</td>\n",
       "      <td>960</td>\n",
       "      <td>22</td>\n",
       "      <td>60</td>\n",
       "      <td>5146</td>\n",
       "      <td>1532</td>\n",
       "      <td>7844</td>\n",
       "      <td>3830</td>\n",
       "      <td>450</td>\n",
       "      <td>1258</td>\n",
       "      <td>72</td>\n",
       "      <td>74</td>\n",
       "      <td>16.8</td>\n",
       "      <td>20</td>\n",
       "      <td>7832</td>\n",
       "      <td>71</td>\n",
       "    </tr>\n",
       "    <tr>\n",
       "      <th>Pennsylvania State Univ. Main Campus</th>\n",
       "      <td>No</td>\n",
       "      <td>19315</td>\n",
       "      <td>10344</td>\n",
       "      <td>3450</td>\n",
       "      <td>48</td>\n",
       "      <td>93</td>\n",
       "      <td>28938</td>\n",
       "      <td>2025</td>\n",
       "      <td>10645</td>\n",
       "      <td>4060</td>\n",
       "      <td>512</td>\n",
       "      <td>2394</td>\n",
       "      <td>77</td>\n",
       "      <td>96</td>\n",
       "      <td>18.1</td>\n",
       "      <td>19</td>\n",
       "      <td>8992</td>\n",
       "      <td>63</td>\n",
       "    </tr>\n",
       "    <tr>\n",
       "      <th>Shippensburg University of Penn.</th>\n",
       "      <td>No</td>\n",
       "      <td>5818</td>\n",
       "      <td>3281</td>\n",
       "      <td>1116</td>\n",
       "      <td>14</td>\n",
       "      <td>53</td>\n",
       "      <td>5268</td>\n",
       "      <td>300</td>\n",
       "      <td>7844</td>\n",
       "      <td>3504</td>\n",
       "      <td>450</td>\n",
       "      <td>1700</td>\n",
       "      <td>80</td>\n",
       "      <td>83</td>\n",
       "      <td>18.8</td>\n",
       "      <td>13</td>\n",
       "      <td>6719</td>\n",
       "      <td>72</td>\n",
       "    </tr>\n",
       "    <tr>\n",
       "      <th>University of Pennsylvania</th>\n",
       "      <td>Yes</td>\n",
       "      <td>12394</td>\n",
       "      <td>5232</td>\n",
       "      <td>2464</td>\n",
       "      <td>85</td>\n",
       "      <td>100</td>\n",
       "      <td>9205</td>\n",
       "      <td>531</td>\n",
       "      <td>17020</td>\n",
       "      <td>7270</td>\n",
       "      <td>500</td>\n",
       "      <td>1544</td>\n",
       "      <td>95</td>\n",
       "      <td>96</td>\n",
       "      <td>6.3</td>\n",
       "      <td>38</td>\n",
       "      <td>25765</td>\n",
       "      <td>93</td>\n",
       "    </tr>\n",
       "    <tr>\n",
       "      <th>West Chester University of Penn.</th>\n",
       "      <td>No</td>\n",
       "      <td>6502</td>\n",
       "      <td>3539</td>\n",
       "      <td>1372</td>\n",
       "      <td>11</td>\n",
       "      <td>51</td>\n",
       "      <td>7484</td>\n",
       "      <td>1904</td>\n",
       "      <td>7844</td>\n",
       "      <td>4108</td>\n",
       "      <td>400</td>\n",
       "      <td>2000</td>\n",
       "      <td>76</td>\n",
       "      <td>79</td>\n",
       "      <td>15.3</td>\n",
       "      <td>16</td>\n",
       "      <td>6773</td>\n",
       "      <td>52</td>\n",
       "    </tr>\n",
       "    <tr>\n",
       "      <th>York College of Pennsylvania</th>\n",
       "      <td>Yes</td>\n",
       "      <td>2989</td>\n",
       "      <td>1855</td>\n",
       "      <td>691</td>\n",
       "      <td>28</td>\n",
       "      <td>63</td>\n",
       "      <td>2988</td>\n",
       "      <td>1726</td>\n",
       "      <td>4990</td>\n",
       "      <td>3560</td>\n",
       "      <td>500</td>\n",
       "      <td>1250</td>\n",
       "      <td>75</td>\n",
       "      <td>75</td>\n",
       "      <td>18.1</td>\n",
       "      <td>28</td>\n",
       "      <td>4509</td>\n",
       "      <td>99</td>\n",
       "    </tr>\n",
       "  </tbody>\n",
       "</table>\n",
       "</div>"
      ],
      "text/plain": [
       "                                      Private   Apps  Accept  Enroll  \\\n",
       "Names                                                                  \n",
       "Bloomsburg Univ. of Pennsylvania           No   6773    3028    1025   \n",
       "Lock Haven University of Pennsylvania      No   3570    2215     651   \n",
       "Millersville University of Penn.           No   6011    3075     960   \n",
       "Pennsylvania State Univ. Main Campus       No  19315   10344    3450   \n",
       "Shippensburg University of Penn.           No   5818    3281    1116   \n",
       "University of Pennsylvania                Yes  12394    5232    2464   \n",
       "West Chester University of Penn.           No   6502    3539    1372   \n",
       "York College of Pennsylvania              Yes   2989    1855     691   \n",
       "\n",
       "                                       Top10perc  Top25perc  F.Undergrad  \\\n",
       "Names                                                                      \n",
       "Bloomsburg Univ. of Pennsylvania              15         55         5847   \n",
       "Lock Haven University of Pennsylvania         17         41         3390   \n",
       "Millersville University of Penn.              22         60         5146   \n",
       "Pennsylvania State Univ. Main Campus          48         93        28938   \n",
       "Shippensburg University of Penn.              14         53         5268   \n",
       "University of Pennsylvania                    85        100         9205   \n",
       "West Chester University of Penn.              11         51         7484   \n",
       "York College of Pennsylvania                  28         63         2988   \n",
       "\n",
       "                                       P.Undergrad  Outstate  Room.Board  \\\n",
       "Names                                                                      \n",
       "Bloomsburg Univ. of Pennsylvania               946      7844        2948   \n",
       "Lock Haven University of Pennsylvania          325      7352        3620   \n",
       "Millersville University of Penn.              1532      7844        3830   \n",
       "Pennsylvania State Univ. Main Campus          2025     10645        4060   \n",
       "Shippensburg University of Penn.               300      7844        3504   \n",
       "University of Pennsylvania                     531     17020        7270   \n",
       "West Chester University of Penn.              1904      7844        4108   \n",
       "York College of Pennsylvania                  1726      4990        3560   \n",
       "\n",
       "                                       Books  Personal  PhD  Terminal  \\\n",
       "Names                                                                   \n",
       "Bloomsburg Univ. of Pennsylvania         500      1680   66        68   \n",
       "Lock Haven University of Pennsylvania    225       500   47        55   \n",
       "Millersville University of Penn.         450      1258   72        74   \n",
       "Pennsylvania State Univ. Main Campus     512      2394   77        96   \n",
       "Shippensburg University of Penn.         450      1700   80        83   \n",
       "University of Pennsylvania               500      1544   95        96   \n",
       "West Chester University of Penn.         400      2000   76        79   \n",
       "York College of Pennsylvania             500      1250   75        75   \n",
       "\n",
       "                                       S.F.Ratio  perc.alumni  Expend  \\\n",
       "Names                                                                   \n",
       "Bloomsburg Univ. of Pennsylvania            18.0           19    7041   \n",
       "Lock Haven University of Pennsylvania       16.1           14    6374   \n",
       "Millersville University of Penn.            16.8           20    7832   \n",
       "Pennsylvania State Univ. Main Campus        18.1           19    8992   \n",
       "Shippensburg University of Penn.            18.8           13    6719   \n",
       "University of Pennsylvania                   6.3           38   25765   \n",
       "West Chester University of Penn.            15.3           16    6773   \n",
       "York College of Pennsylvania                18.1           28    4509   \n",
       "\n",
       "                                       Grad.Rate  \n",
       "Names                                             \n",
       "Bloomsburg Univ. of Pennsylvania              75  \n",
       "Lock Haven University of Pennsylvania         63  \n",
       "Millersville University of Penn.              71  \n",
       "Pennsylvania State Univ. Main Campus          63  \n",
       "Shippensburg University of Penn.              72  \n",
       "University of Pennsylvania                    93  \n",
       "West Chester University of Penn.              52  \n",
       "York College of Pennsylvania                  99  "
      ]
     },
     "execution_count": 26,
     "metadata": {},
     "output_type": "execute_result"
    }
   ],
   "source": [
    "colleges = list(college.index)\n",
    "Penn = [i for i in colleges if \"Penn\" in i]\n",
    "many_penns = college.loc[Penn]\n",
    "many_penns"
   ]
  },
  {
   "cell_type": "code",
   "execution_count": 26,
   "metadata": {
    "deletable": false
   },
   "outputs": [
    {
     "name": "stdout",
     "output_type": "stream",
     "text": [
      "Correct! You earned 4/4 points. You are a star!\n",
      "\n",
      "Your submission has been successfully recorded in the gradebook.\n"
     ]
    }
   ],
   "source": [
    "grader.grade(test_case_id = 'many_penns_test', answer = many_penns)"
   ]
  },
  {
   "cell_type": "markdown",
   "metadata": {},
   "source": [
    "*Continue to explore the dataset by using any of the skills you learned in Recitation 1. Keep this notebook in a location that is easily accessible, as we will continue with it for the next assignment.*"
   ]
  },
  {
   "cell_type": "code",
   "execution_count": null,
   "metadata": {},
   "outputs": [],
   "source": []
  }
 ],
 "metadata": {
  "kernelspec": {
   "display_name": "Python 3",
   "language": "python",
   "name": "python3"
  },
  "language_info": {
   "codemirror_mode": {
    "name": "ipython",
    "version": 3
   },
   "file_extension": ".py",
   "mimetype": "text/x-python",
   "name": "python",
   "nbconvert_exporter": "python",
   "pygments_lexer": "ipython3",
   "version": "3.6.8"
  }
 },
 "nbformat": 4,
 "nbformat_minor": 2
}
