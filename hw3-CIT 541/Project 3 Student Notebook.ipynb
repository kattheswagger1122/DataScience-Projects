{
 "cells": [
  {
   "cell_type": "markdown",
   "metadata": {},
   "source": [
    "# Project 3\n",
    "\n",
    "In the coding project below, answer relevant questions on Canvas via the assigment named Programming Project 3 Quiz Questions.\n",
    "\n",
    "In the following exercise, we will perform linear regression to fit various data sets and to predict outputs. Perform the following analyses by starting a new notebook. \n",
    "\n",
    "In this assignment, we will be using PennGrader, a Python package built by a former TA for autograding Python notebooks. PennGrader was developed to provide students with instant feedback on their answer. You can submit your answer and know whether it's right or wrong instantly. We then record your most recent answer in our backend database. You will have 100 attempts per test case, which should be more than sufficient.\n",
    "\n",
    "<b>NOTE：Please remember to remove the </b>\n",
    "\n",
    "```python\n",
    "raise notImplementedError\n",
    "```\n",
    "<b>after your implementation, otherwise the cell will not compile.</b>"
   ]
  },
  {
   "cell_type": "markdown",
   "metadata": {},
   "source": [
    "## Getting Setup\n",
    "Please run the below cells to get setup with the autograder. If you need to install packages, please uncomment and try the following lines; if they do not work, please try running them in the terminal without the `!` sign! (e.g. `pip install sklearn --user`"
   ]
  },
  {
   "cell_type": "code",
   "execution_count": 1,
   "metadata": {},
   "outputs": [],
   "source": [
    "# %%capture\n",
    "# !pip install penngrader --user"
   ]
  },
  {
   "cell_type": "code",
   "execution_count": 2,
   "metadata": {},
   "outputs": [],
   "source": [
    "# !pip install seaborn --user\n",
    "# !pip install sklearn --user\n",
    "# !pip install statsmodels --user"
   ]
  },
  {
   "cell_type": "markdown",
   "metadata": {},
   "source": [
    "Let's try PennGrader out! Fill in the cell below with your PennID and then run the following cell to initialize the grader.\n",
    "\n",
    "<font color='red'>Warning:</font> Please make sure you only have one copy of the student notebook in your directory in Codio upon submission. The autograder looks for the variable `STUDENT_ID` across all notebooks, so if there is a duplicate notebook, it will fail."
   ]
  },
  {
   "cell_type": "code",
   "execution_count": 3,
   "metadata": {},
   "outputs": [],
   "source": [
    "#PLEASE ENSURE YOUR STUDENT_ID IS ENTERED AS AN INT (NOT A STRING). IF NOT, THE AUTOGRADER WON'T KNOW WHO \n",
    "#TO ASSIGN POINTS TO YOU IN OUR BACKEND\n",
    "\n",
    "STUDENT_ID = 42294124                   # YOUR 8-DIGIT PENNID GOES HERE\n",
    "STUDENT_NAME = \"Katrina Shih\"     # YOUR FULL NAME GOES HERE"
   ]
  },
  {
   "cell_type": "code",
   "execution_count": 4,
   "metadata": {},
   "outputs": [],
   "source": [
    "import penngrader.grader\n",
    "\n",
    "grader = penngrader.grader.PennGrader(homework_id = 'ESE542_Online_Su_2021_HW3', student_id = STUDENT_ID)"
   ]
  },
  {
   "cell_type": "code",
   "execution_count": 5,
   "metadata": {},
   "outputs": [],
   "source": [
    "# Let's import the relevant Python packages here\n",
    "# Feel free to import any other packages for this project\n",
    "\n",
    "# Data Wrangling\n",
    "import pandas as pd\n",
    "import numpy as np\n",
    "\n",
    "# ML\n",
    "from sklearn.linear_model import LinearRegression\n",
    "from sklearn.preprocessing import PolynomialFeatures\n",
    "\n",
    "# Statistics\n",
    "import statsmodels.formula.api as smf\n",
    "import statsmodels.api as sm\n",
    "\n",
    "# Evaluation Metrics\n",
    "from sklearn.metrics import mean_squared_error\n",
    "\n",
    "# Plotting\n",
    "import matplotlib.pyplot as plt\n",
    "\n",
    "%matplotlib inline"
   ]
  },
  {
   "cell_type": "markdown",
   "metadata": {},
   "source": [
    "## Data Leakage"
   ]
  },
  {
   "cell_type": "markdown",
   "metadata": {},
   "source": [
    "A very important (read: **the most important** topic) in practical data science scenarios is that of data leakage. Data leakage is a situation that occurs when the creator of a machine learning model allows the model to read both training data and test data to train the model. In Programming Project 3, the training data and the test data are separated for you already. Thus, the linear regression model should only be trained with the training data. Predictions can be made on either the training data or the test data. In the upcoming weeks, we will explore why you shouldn't train the model with the test data as well and what methods we can employ to choose the training set and the test set."
   ]
  },
  {
   "cell_type": "markdown",
   "metadata": {},
   "source": [
    "## Part A\n",
    "\n",
    "First, we will use the `Ch3PartA` dataset to generate polynomial regressions using `scikit-learn`.\n",
    "This dataset contains 100 observations of points $x$ and their corresponding response, $y$. The data\n",
    "is divided into a training set $(x_{tr}, y_{tr})$ and a test set $(x_{te}, y_{te})$, and all the values are doubles.\n",
    "\n",
    "### A1.\n",
    "\n",
    "To start, load `Ch3PartA.csv` into your notebook."
   ]
  },
  {
   "cell_type": "code",
   "execution_count": 6,
   "metadata": {},
   "outputs": [
    {
     "data": {
      "text/html": [
       "<div>\n",
       "<style scoped>\n",
       "    .dataframe tbody tr th:only-of-type {\n",
       "        vertical-align: middle;\n",
       "    }\n",
       "\n",
       "    .dataframe tbody tr th {\n",
       "        vertical-align: top;\n",
       "    }\n",
       "\n",
       "    .dataframe thead th {\n",
       "        text-align: right;\n",
       "    }\n",
       "</style>\n",
       "<table border=\"1\" class=\"dataframe\">\n",
       "  <thead>\n",
       "    <tr style=\"text-align: right;\">\n",
       "      <th></th>\n",
       "      <th>x_tr</th>\n",
       "      <th>y_tr</th>\n",
       "      <th>x_te</th>\n",
       "      <th>y_te</th>\n",
       "    </tr>\n",
       "  </thead>\n",
       "  <tbody>\n",
       "    <tr>\n",
       "      <th>0</th>\n",
       "      <td>0.249973</td>\n",
       "      <td>-0.225565</td>\n",
       "      <td>0.006047</td>\n",
       "      <td>0.043946</td>\n",
       "    </tr>\n",
       "    <tr>\n",
       "      <th>1</th>\n",
       "      <td>0.073364</td>\n",
       "      <td>0.435610</td>\n",
       "      <td>0.483860</td>\n",
       "      <td>-0.066113</td>\n",
       "    </tr>\n",
       "    <tr>\n",
       "      <th>2</th>\n",
       "      <td>0.663146</td>\n",
       "      <td>0.507205</td>\n",
       "      <td>0.123247</td>\n",
       "      <td>0.859564</td>\n",
       "    </tr>\n",
       "    <tr>\n",
       "      <th>3</th>\n",
       "      <td>0.595366</td>\n",
       "      <td>0.059467</td>\n",
       "      <td>0.307679</td>\n",
       "      <td>-0.305032</td>\n",
       "    </tr>\n",
       "    <tr>\n",
       "      <th>4</th>\n",
       "      <td>0.415146</td>\n",
       "      <td>-0.035114</td>\n",
       "      <td>0.926060</td>\n",
       "      <td>-0.472700</td>\n",
       "    </tr>\n",
       "  </tbody>\n",
       "</table>\n",
       "</div>"
      ],
      "text/plain": [
       "       x_tr      y_tr      x_te      y_te\n",
       "0  0.249973 -0.225565  0.006047  0.043946\n",
       "1  0.073364  0.435610  0.483860 -0.066113\n",
       "2  0.663146  0.507205  0.123247  0.859564\n",
       "3  0.595366  0.059467  0.307679 -0.305032\n",
       "4  0.415146 -0.035114  0.926060 -0.472700"
      ]
     },
     "execution_count": 6,
     "metadata": {},
     "output_type": "execute_result"
    }
   ],
   "source": [
    "ch3PartA_raw = pd.read_csv(\"Ch3PartA.csv\")\n",
    "ch3A = ch3PartA_raw.copy()\n",
    "ch3A.head()"
   ]
  },
  {
   "cell_type": "markdown",
   "metadata": {},
   "source": [
    "### A2.\n",
    "\n",
    "Create a scatter plot of: \n",
    "\n",
    "(a) `y_tr` against `x_tr` and another of \n",
    "\n",
    "(b) `y_te` against `x_te`. \n",
    "\n",
    "\n",
    "Then, observe and comment on the similarities and differences between the plots."
   ]
  },
  {
   "cell_type": "code",
   "execution_count": 7,
   "metadata": {},
   "outputs": [
    {
     "data": {
      "image/png": "[encoded data removed]",
      "text/plain": [
       "<Figure size 864x360 with 2 Axes>"
      ]
     },
     "metadata": {
      "needs_background": "light"
     },
     "output_type": "display_data"
    }
   ],
   "source": [
    "# Creating scatter plots\n",
    "fig, ax = plt.subplots(1, 2, figsize=(12, 5))\n",
    "\n",
    "# Scatter plot for y_tr against x_tr\n",
    "ax[0].scatter(ch3A['x_tr'], ch3A['y_tr'], color='blue', label='Train')\n",
    "ax[0].set_title('Scatter Plot of y_tr vs. x_tr')\n",
    "ax[0].set_xlabel('x_tr')\n",
    "ax[0].set_ylabel('y_tr')\n",
    "ax[0].legend()\n",
    "\n",
    "plt.tight_layout()\n",
    "plt.show()"
   ]
  },
  {
   "cell_type": "code",
   "execution_count": 8,
   "metadata": {},
   "outputs": [
    {
     "data": {
      "image/png": "[encoded data removed]",
      "text/plain": [
       "<Figure size 864x360 with 2 Axes>"
      ]
     },
     "metadata": {
      "needs_background": "light"
     },
     "output_type": "display_data"
    }
   ],
   "source": [
    "# Creating scatter plots\n",
    "fig, ax = plt.subplots(1, 2, figsize=(12, 5))\n",
    "\n",
    "# Scatter plot for y_te against x_te\n",
    "ax[1].scatter(ch3A['x_te'], ch3A['y_te'], color='red', label='Test')\n",
    "ax[1].set_title('Scatter Plot of y_te vs. x_te')\n",
    "ax[1].set_xlabel('x_te')\n",
    "ax[1].set_ylabel('y_te')\n",
    "ax[1].legend()\n",
    "\n",
    "plt.tight_layout()\n",
    "plt.show()"
   ]
  },
  {
   "cell_type": "markdown",
   "metadata": {},
   "source": [
    "What is the maximum value of `y` in the training set and in the test set? Please store these variables as `max_y_train` and `max_y_test` below and run the first grader cell! \n",
    "\n",
    "If you get 1 point, it means that you got both right. If you receive 0.5 points, you had only one right, and if you receive 0.25 points, then you correctly entered a tuple but both values were incorrect."
   ]
  },
  {
   "cell_type": "code",
   "execution_count": 9,
   "metadata": {},
   "outputs": [],
   "source": [
    "max_y_train = ch3A['y_tr'].max()\n",
    "max_y_test = ch3A['y_te'].max()\n",
    "# max_y_train = ()\n",
    "# max_y_test = ()"
   ]
  },
  {
   "cell_type": "code",
   "execution_count": 10,
   "metadata": {},
   "outputs": [
    {
     "name": "stdout",
     "output_type": "stream",
     "text": [
      "0.95500282089616 0.8655959436070828\n"
     ]
    }
   ],
   "source": [
    "# View the results here before you submit\n",
    "print(max_y_train, max_y_test)"
   ]
  },
  {
   "cell_type": "code",
   "execution_count": 11,
   "metadata": {},
   "outputs": [
    {
     "name": "stdout",
     "output_type": "stream",
     "text": [
      "Correct! You earned 1.0/1 points. You are a star!\n",
      "\n",
      "Your submission has been successfully recorded in the gradebook.\n"
     ]
    }
   ],
   "source": [
    "grader.grade(test_case_id = 'test_y_train_test', answer = (max_y_train, max_y_test))"
   ]
  },
  {
   "cell_type": "markdown",
   "metadata": {},
   "source": [
    "Now, comment on the plot differences below. Please record your response into the multiline string named `plot_diffs_string` and then submit it to us via the grader cell!"
   ]
  },
  {
   "cell_type": "code",
   "execution_count": 12,
   "metadata": {},
   "outputs": [],
   "source": [
    "plot_diffs_string = '''\n",
    "The scatter plot of y_tr against x_tr (training set) \n",
    "shows a spread of data points that seem to be somewhat \n",
    "randomly distributed around the x-axis, with some points \n",
    "exhibiting a positive trend while others exhibit a negative \n",
    "trend. There is no clear pattern visible in the distribution of points.\n",
    "On the other hand, the scatter plot of y_te against x_te (test set) \n",
    "also shows a spread of data points, but they appear to be more \n",
    "densely clustered towards the center of the plot compared to the\n",
    "training set. Additionally, there seems to be a slight positive\n",
    "trend in the data points, indicating a potential linear relationship\n",
    "between x_te and y_te. In summary, the training set scatter\n",
    "plot displays more variability in the data points with no clear\n",
    "trend, while the test set scatter plot shows a more clustered\n",
    "distribution with a slight positive trend.\n",
    "'''"
   ]
  },
  {
   "cell_type": "code",
   "execution_count": 13,
   "metadata": {},
   "outputs": [
    {
     "name": "stdout",
     "output_type": "stream",
     "text": [
      "Correct! You earned 1/1 points. You are a star!\n",
      "\n",
      "Your submission has been successfully recorded in the gradebook.\n"
     ]
    }
   ],
   "source": [
    "grader.grade(test_case_id = 'test_plot_diff_test', answer = plot_diffs_string)"
   ]
  },
  {
   "cell_type": "markdown",
   "metadata": {},
   "source": [
    "### A3. \n",
    "Generate the necessary features to fit polynomial regressions up to the 20th degree (up to and including the $x_{20}$ term) on the training data. Hint: You will be fitting multi-variate linear regression models with polynomial features of $x$. Familiarize yourself with `sklearn.preprocessing.PolynomialFeatures`. \n",
    "\n",
    "Here, we're just asking you to practice generating the features. You'll pass one of them into the autograder for a quick check (although the autograder will not be very strict, so if you end up failing the next test case definitely make sure your work here is correct!)"
   ]
  },
  {
   "cell_type": "code",
   "execution_count": 15,
   "metadata": {},
   "outputs": [
    {
     "name": "stdout",
     "output_type": "stream",
     "text": [
      "Shape of polynomial features matrix: (100, 21)\n"
     ]
    }
   ],
   "source": [
    "# Define the maximum degree of the polynomial\n",
    "#degree = 20\n",
    "\n",
    "# Extract the input features (x_tr) from the training set\n",
    "X_train = ch3A['x_tr'].values.reshape(-1, 1)\n",
    "\n",
    "# Initialize the PolynomialFeatures object with the specified degree\n",
    "poly_features = PolynomialFeatures(degree=degree)\n",
    "\n",
    "# Generate polynomial features up to the 20th degree\n",
    "X_poly_train = poly_features.fit_transform(X_train)\n",
    "\n",
    "# Print the shape of the generated polynomial features matrix\n",
    "print(\"Shape of polynomial features matrix:\", X_poly_train.shape)"
   ]
  },
  {
   "cell_type": "markdown",
   "metadata": {},
   "source": [
    "Now, let's check to make sure your highest-degree polynomial features are correct; namely the set of features that includes $x_{20}$, or `PolynomialFeatures(degree = 20)`. Please set `polynomial_features_df` as this **dataframe**.\n",
    "\n",
    "If you do not receive full points, that means that either you have the wrong number of columns or some column values aren't correct!"
   ]
  },
  {
   "cell_type": "code",
   "execution_count": 16,
   "metadata": {},
   "outputs": [
    {
     "name": "stdout",
     "output_type": "stream",
     "text": [
      "     1         x       x^2       x^3       x^4       x^5           x^6  \\\n",
      "0  1.0  0.249973  0.062486  0.015620  0.003905  0.000976  2.439818e-04   \n",
      "1  1.0  0.073364  0.005382  0.000395  0.000029  0.000002  1.559195e-07   \n",
      "2  1.0  0.663146  0.439763  0.291627  0.193391  0.128247  8.504639e-02   \n",
      "3  1.0  0.595366  0.354461  0.211034  0.125643  0.074803  4.453545e-02   \n",
      "4  1.0  0.415146  0.172346  0.071549  0.029703  0.012331  5.119210e-03   \n",
      "\n",
      "            x^7           x^8           x^9  ...          x^11          x^12  \\\n",
      "0  6.098884e-05  1.524556e-05  3.810976e-06  ...  2.381343e-07  5.952713e-08   \n",
      "1  1.143889e-08  8.392034e-10  6.156737e-11  ...  3.313732e-13  2.431089e-14   \n",
      "2  5.639820e-02  3.740025e-02  2.480184e-02  ...  1.090693e-02  7.232889e-03   \n",
      "3  2.651491e-02  1.578608e-02  9.398503e-03  ...  3.331404e-03  1.983406e-03   \n",
      "4  2.125218e-03  8.822750e-04  3.662726e-04  ...  6.312559e-05  2.620631e-05   \n",
      "\n",
      "           x^13          x^14          x^15          x^16          x^17  \\\n",
      "0  1.488017e-08  3.719639e-09  9.298089e-10  2.324270e-10  5.810045e-11   \n",
      "1  1.783546e-15  1.308482e-16  9.599553e-18  7.042623e-19  5.166754e-20   \n",
      "2  4.796463e-03  3.180757e-03  2.109307e-03  1.398779e-03  9.275950e-04   \n",
      "3  1.180853e-03  7.030403e-04  4.185665e-04  2.492004e-04  1.483656e-04   \n",
      "4  1.087944e-05  4.516551e-06  1.875027e-06  7.784092e-07  3.231532e-07   \n",
      "\n",
      "           x^18          x^19          x^20  \n",
      "0  1.452354e-11  3.630491e-12  9.075243e-13  \n",
      "1  3.790541e-21  2.780895e-22  2.040178e-23  \n",
      "2  6.151311e-04  4.079219e-04  2.705119e-04  \n",
      "3  8.833186e-05  5.258982e-05  3.131021e-05  \n",
      "4  1.341556e-07  5.569413e-08  2.312118e-08  \n",
      "\n",
      "[5 rows x 21 columns]\n"
     ]
    }
   ],
   "source": [
    "# Extract feature names from PolynomialFeatures\n",
    "feature_names = poly_features.get_feature_names(['x'])\n",
    "\n",
    "# Create DataFrame with polynomial features\n",
    "polynomial_features_df = pd.DataFrame(data=X_poly_train, columns=feature_names)\n",
    "\n",
    "# Print the DataFrame to verify\n",
    "print(polynomial_features_df.head())"
   ]
  },
  {
   "cell_type": "code",
   "execution_count": 17,
   "metadata": {},
   "outputs": [
    {
     "name": "stdout",
     "output_type": "stream",
     "text": [
      "Correct! You earned 1.0/1 points. You are a star!\n",
      "\n",
      "Your submission has been successfully recorded in the gradebook.\n"
     ]
    }
   ],
   "source": [
    "grader.grade(test_case_id = 'test_poly_coefficients_setups', answer = polynomial_features_df)"
   ]
  },
  {
   "cell_type": "markdown",
   "metadata": {},
   "source": [
    "### A4. \n",
    "Calculate the training MSE and the test MSE for 20 polynomial models up to degree 20. Store these as lists named `mse_train` and `mse_test` respectively. Hint: Familiarize yourself with the `sklearn.metrics.mean_squared_error` package and try to automate the process, e.g., using a for loop with degrees going from 1 to 20."
   ]
  },
  {
   "cell_type": "code",
   "execution_count": 18,
   "metadata": {},
   "outputs": [
    {
     "name": "stdout",
     "output_type": "stream",
     "text": [
      "Training MSE for each degree: [0.12125185501925011, 0.12033129619890895, 0.11621071946843699, 0.11619473366750084, 0.029527712553060435, 0.02940354220219511, 0.029316808566589154, 0.029298072759654174, 0.029210396487502864, 0.028687978598350768, 0.02805530894700024, 0.027906972308051982, 0.027285261188199277, 0.027213013718522708, 0.02627569144504458, 0.026269671462221096, 0.026269309643829085, 0.025325292653535406, 0.025323673483406185, 0.024833781487058403]\n",
      "Test MSE for each degree: [0.09818117822153999, 0.10019434223965008, 0.0867006932612044, 0.08687244868018128, 0.03234864152603839, 0.0328270268142006, 0.03291294036908375, 0.03288579488513143, 0.032847511775612175, 0.03374299946459762, 0.035538802394713756, 0.03542804470014921, 0.03735684810027347, 0.037752092209504026, 0.039213085157553264, 0.03945116797042994, 0.039470251821391314, 0.04263571410440089, 0.04270095983455204, 0.042976305958051075]\n"
     ]
    }
   ],
   "source": [
    "# Initialize empty lists to store MSE values\n",
    "mse_train = []\n",
    "mse_test = []\n",
    "\n",
    "# Iterate over degrees from 1 to 20\n",
    "for degree in range(1, 21):\n",
    "    # Initialize PolynomialFeatures object\n",
    "    poly_features = PolynomialFeatures(degree=degree)\n",
    "    \n",
    "    # Generate polynomial features for training data\n",
    "    X_poly_train = poly_features.fit_transform(ch3A['x_tr'].values.reshape(-1, 1))\n",
    "    \n",
    "    # Fit polynomial regression model\n",
    "    model = LinearRegression()\n",
    "    model.fit(X_poly_train, ch3A['y_tr'])\n",
    "    \n",
    "    # Predict on training data\n",
    "    y_train_pred = model.predict(X_poly_train)\n",
    "    \n",
    "    # Calculate training MSE\n",
    "    mse_train.append(mean_squared_error(ch3A['y_tr'], y_train_pred))\n",
    "    \n",
    "    # Generate polynomial features for test data\n",
    "    X_poly_test = poly_features.transform(ch3A['x_te'].values.reshape(-1, 1))\n",
    "    \n",
    "    # Predict on test data\n",
    "    y_test_pred = model.predict(X_poly_test)\n",
    "    \n",
    "    # Calculate test MSE\n",
    "    mse_test.append(mean_squared_error(ch3A['y_te'], y_test_pred))\n",
    "\n",
    "# Print the MSE values\n",
    "print(\"Training MSE for each degree:\", mse_train)\n",
    "print(\"Test MSE for each degree:\", mse_test)"
   ]
  },
  {
   "cell_type": "markdown",
   "metadata": {},
   "source": [
    "Run the grader cells for both `mse_train` and `mse_test` in order; please make sure you don't put the wrong cell in!"
   ]
  },
  {
   "cell_type": "code",
   "execution_count": 19,
   "metadata": {},
   "outputs": [
    {
     "name": "stdout",
     "output_type": "stream",
     "text": [
      "Correct! You earned 1.5/1.5 points. You are a star!\n",
      "\n",
      "Your submission has been successfully recorded in the gradebook.\n"
     ]
    }
   ],
   "source": [
    "grader.grade(test_case_id = 'test_mse_polynomials_train', answer = mse_train)"
   ]
  },
  {
   "cell_type": "code",
   "execution_count": 20,
   "metadata": {},
   "outputs": [
    {
     "name": "stdout",
     "output_type": "stream",
     "text": [
      "Correct! You earned 1.5/1.5 points. You are a star!\n",
      "\n",
      "Your submission has been successfully recorded in the gradebook.\n"
     ]
    }
   ],
   "source": [
    "grader.grade(test_case_id = 'test_mse_polynomials_test', answer = mse_test)"
   ]
  },
  {
   "cell_type": "markdown",
   "metadata": {},
   "source": [
    "### A5.\n",
    "\n",
    "Generate a plot of both the training MSE and test MSE against flexibility (polynomial degree) for degrees 1 to 20. \n",
    "\n",
    "Find the minimum training and testing MSEs and set them to `min_train_mse` and `min_test_mse` respectively."
   ]
  },
  {
   "cell_type": "code",
   "execution_count": 21,
   "metadata": {},
   "outputs": [],
   "source": [
    "min_train_mse = min(mse_train)\n",
    "min_test_mse = min(mse_test)"
   ]
  },
  {
   "cell_type": "code",
   "execution_count": 22,
   "metadata": {},
   "outputs": [
    {
     "name": "stdout",
     "output_type": "stream",
     "text": [
      "0.024833781487058403 0.03234864152603839\n"
     ]
    }
   ],
   "source": [
    "print(min_train_mse, min_test_mse)"
   ]
  },
  {
   "cell_type": "markdown",
   "metadata": {},
   "source": [
    "*Hint*: You should see the `min_train_mse < min_test_mse` since we have a bit of overfitting. Run the grader cell below! Each of the variables is worth 1 point; we assign points based on how close you are to the true answer"
   ]
  },
  {
   "cell_type": "code",
   "execution_count": 23,
   "metadata": {},
   "outputs": [
    {
     "name": "stdout",
     "output_type": "stream",
     "text": [
      "Correct! You earned 2.0/2 points. You are a star!\n",
      "\n",
      "Your submission has been successfully recorded in the gradebook.\n"
     ]
    }
   ],
   "source": [
    "grader.grade(test_case_id = 'test_min_mses_test', answer = (min_train_mse, min_test_mse))"
   ]
  },
  {
   "cell_type": "markdown",
   "metadata": {},
   "source": [
    "### A6. \n",
    "From your plot, make an educated guess about the polynomial degree of the function that\n",
    "was used to generate the data. Then, give an estimate of the irreducible error $Var(\\epsilon)$ for the optimal model on both the training set and test set. \n",
    "\n",
    "*Hint*: The optimal model is obtained when we use the maximal degree polynomial that does not overfit. Revisit the section on hypothesis testing and think about the relationship between MSE, RSS, and RSE to calculate the irreducible error."
   ]
  },
  {
   "cell_type": "code",
   "execution_count": 108,
   "metadata": {},
   "outputs": [
    {
     "data": {
      "text/plain": [
       "(5, 0.0314, 0.0344)"
      ]
     },
     "execution_count": 108,
     "metadata": {},
     "output_type": "execute_result"
    }
   ],
   "source": [
    "# degree = () \n",
    "# RSE_train_sq = ()\n",
    "# RSE_test_sq = ()\n",
    "\n",
    "# Identifying the optimal polynomial degree based on minimum test MSE\n",
    "min_test_mse = min(mse_test)\n",
    "degree = mse_test.index(min_test_mse) + 1  # Adding 1 because degrees start from 1\n",
    "\n",
    "# Since we don't have direct access to Var(ε), we'll use the minimum test MSE as a proxy for the irreducible error\n",
    "# Note: This is a simplification for the purpose of this exercise. In practice, Var(ε) would require additional information.\n",
    "# RSE_train_sq = mse_train[degree - 1]  # Adjusting index for 0-based list\n",
    "# RSE_test_sq = min_test_mse  # This is already the minimum test MSE\n",
    "\n",
    "RSE_train_sq = 0.0314\n",
    "RSE_test_sq = 0.0344\n",
    "\n",
    "degree, RSE_train_sq, RSE_test_sq"
   ]
  },
  {
   "cell_type": "markdown",
   "metadata": {},
   "source": [
    "Please set your respective irreducible errors as `RSE_train_sq` and `RSE_test_sq` respectively, and set the number of polynomial features as `degree`. Then, run the grader cell below. It grades similar to above, but we add 1 point for the `degree` variable!"
   ]
  },
  {
   "cell_type": "code",
   "execution_count": 109,
   "metadata": {},
   "outputs": [
    {
     "name": "stdout",
     "output_type": "stream",
     "text": [
      "Desired degree for best model:  5\n",
      "Irreducible error (training):  0.0314\n",
      "Irreducible error (test):  0.0344\n"
     ]
    }
   ],
   "source": [
    "print(\"Desired degree for best model: \", degree)\n",
    "print(\"Irreducible error (training): \", RSE_train_sq)\n",
    "print(\"Irreducible error (test): \", RSE_test_sq)"
   ]
  },
  {
   "cell_type": "code",
   "execution_count": 110,
   "metadata": {
    "scrolled": true
   },
   "outputs": [
    {
     "name": "stdout",
     "output_type": "stream",
     "text": [
      "Correct! You earned 3.0/3 points. You are a star!\n",
      "\n",
      "Your submission has been successfully recorded in the gradebook.\n"
     ]
    }
   ],
   "source": [
    "grader.grade(test_case_id = 'test_irreducible', answer = (degree, RSE_train_sq, RSE_test_sq))"
   ]
  },
  {
   "cell_type": "markdown",
   "metadata": {},
   "source": [
    "## Part B\n",
    "\n",
    "Next, we will use the `Ch3PartB` dataset to observe the effects of collinearity using `statsmodels`.\n",
    "This dataset contains 100 observations of points $(x1, x2)$, and $y$, the response variable.\n",
    "\n",
    "### B1. \n",
    "Load the data from `Ch3PartB.csv` into a pandas DataFrame."
   ]
  },
  {
   "cell_type": "code",
   "execution_count": 26,
   "metadata": {},
   "outputs": [
    {
     "name": "stdout",
     "output_type": "stream",
     "text": [
      "   Unnamed: 0        x1        x2         y\n",
      "0           0  0.417022  0.240074  2.949735\n",
      "1           1  0.720324  0.157942  3.261717\n",
      "2           2  0.000114 -0.030563  3.322517\n",
      "3           3  0.302333  0.233964  2.387546\n",
      "4           4  0.146756  0.096387  3.002498\n"
     ]
    }
   ],
   "source": [
    "# Load the data into a DataFrame\n",
    "df = pd.read_csv('Ch3PartB.csv')\n",
    "\n",
    "# Display the first few rows of the DataFrame to verify the data loading\n",
    "print(df.head())"
   ]
  },
  {
   "cell_type": "markdown",
   "metadata": {},
   "source": [
    "### B2. \n",
    "Show a scatterplot displaying the relationship between $x1$ and $x2$ \n",
    "\n",
    "What is the correlation coefficient between $x1$ and $x2$? Compute the answer and store it as `correlation_variable` -- it should be a single floating-point number"
   ]
  },
  {
   "cell_type": "code",
   "execution_count": 27,
   "metadata": {},
   "outputs": [
    {
     "data": {
      "image/png": "[encoded data removed]",
      "text/plain": [
       "<Figure size 576x432 with 1 Axes>"
      ]
     },
     "metadata": {
      "needs_background": "light"
     },
     "output_type": "display_data"
    }
   ],
   "source": [
    "import seaborn as sns\n",
    "import matplotlib.pyplot as plt\n",
    "\n",
    "# Scatter plot\n",
    "plt.figure(figsize=(8, 6))\n",
    "sns.scatterplot(data=df, x='x1', y='x2')\n",
    "plt.title('Scatter Plot of x1 vs x2')\n",
    "plt.xlabel('x1')\n",
    "plt.ylabel('x2')\n",
    "plt.grid(True)\n",
    "plt.show()"
   ]
  },
  {
   "cell_type": "code",
   "execution_count": 28,
   "metadata": {},
   "outputs": [
    {
     "name": "stdout",
     "output_type": "stream",
     "text": [
      "Correlation coefficient between x1 and x2: 0.8390596222844913\n"
     ]
    }
   ],
   "source": [
    "correlation_variable = df['x1'].corr(df['x2'])\n",
    "print(\"Correlation coefficient between x1 and x2:\", correlation_variable)"
   ]
  },
  {
   "cell_type": "code",
   "execution_count": 29,
   "metadata": {},
   "outputs": [
    {
     "name": "stdout",
     "output_type": "stream",
     "text": [
      "Correct! You earned 0.5/0.5 points. You are a star!\n",
      "\n",
      "Your submission has been successfully recorded in the gradebook.\n"
     ]
    }
   ],
   "source": [
    "grader.grade(test_case_id = 'test_correlation', answer = correlation_variable)"
   ]
  },
  {
   "cell_type": "markdown",
   "metadata": {},
   "source": [
    "### B3. \n",
    "\n",
    "Using the data, fit a least squares regression to predict $y$ using $x1$ and $x2$. Describe your results in a Markdown cell. \n",
    "\n",
    "*Hint*: Familiarize yourself with `statsmodels.formula.api.ols`. \n",
    "\n",
    "We have several questions here as well:\n",
    "\n",
    "(a) What are the estimates $\\hat{\\beta_0}, \\hat{\\beta_1}, \\hat{\\beta_2}$?\n",
    "\n",
    "(b) At a 95% confidence level, can you reject the null hypothesis $H_0: \\beta_1 = 0$? \n",
    "\n",
    "(c) What about $H_0: \\beta_2 = 0$?"
   ]
  },
  {
   "cell_type": "code",
   "execution_count": 30,
   "metadata": {
    "scrolled": false
   },
   "outputs": [
    {
     "name": "stdout",
     "output_type": "stream",
     "text": [
      "Estimated coefficients:\n",
      "beta0_hat = 2.1892843976248204\n",
      "beta1_hat = 0.704628536312023\n",
      "beta2_hat = 2.502404958673053\n",
      "\n",
      "Hypothesis testing results for beta1=0:\n",
      "Test statistic: 1.1065747100543462\n",
      "Can reject null hypothesis at 95% confidence level? False\n",
      "\n",
      "Hypothesis testing results for beta2=0:\n",
      "Test statistic: 2.1942592292014758\n",
      "Can reject null hypothesis at 95% confidence level? True\n"
     ]
    }
   ],
   "source": [
    "import statsmodels.api as sm\n",
    "import statsmodels.formula.api as smf\n",
    "\n",
    "# Fit the least squares regression model\n",
    "model = smf.ols(formula='y ~ x1 + x2', data=df).fit()\n",
    "\n",
    "# (a) Estimates beta0, beta1, beta2\n",
    "beta0_hat = model.params['Intercept']\n",
    "beta1_hat = model.params['x1']\n",
    "beta2_hat = model.params['x2']\n",
    "\n",
    "# (b) Hypothesis testing for beta1=0\n",
    "test_statistic_b1 = model.tvalues['x1']  # Using t-value\n",
    "reject_null_b1 = model.pvalues['x1'] < 0.05\n",
    "\n",
    "# (c) Hypothesis testing for beta2=0\n",
    "test_statistic_b2 = model.tvalues['x2']  # Using t-value\n",
    "reject_null_b2 = model.pvalues['x2'] < 0.05\n",
    "\n",
    "# Display results\n",
    "print(\"Estimated coefficients:\")\n",
    "print(\"beta0_hat =\", beta0_hat)\n",
    "print(\"beta1_hat =\", beta1_hat)\n",
    "print(\"beta2_hat =\", beta2_hat)\n",
    "print(\"\\nHypothesis testing results for beta1=0:\")\n",
    "print(\"Test statistic:\", test_statistic_b1)\n",
    "print(\"Can reject null hypothesis at 95% confidence level?\", reject_null_b1)\n",
    "print(\"\\nHypothesis testing results for beta2=0:\")\n",
    "print(\"Test statistic:\", test_statistic_b2)\n",
    "print(\"Can reject null hypothesis at 95% confidence level?\", reject_null_b2)\n"
   ]
  },
  {
   "cell_type": "markdown",
   "metadata": {},
   "source": [
    "For your answers to $\\hat{\\beta_0}, \\hat{\\beta_1}, \\hat{\\beta_2}$, please input them either using code or typing the numbers from `statsmodels`' output into the variables below. You should include at least 4 digits after the decimal point."
   ]
  },
  {
   "cell_type": "code",
   "execution_count": 31,
   "metadata": {},
   "outputs": [],
   "source": [
    "beta_0 = beta0_hat\n",
    "beta_1 = beta1_hat\n",
    "beta_2 = beta2_hat\n",
    "test_statistic_b1 = test_statistic_b1\n",
    "reject_null_b1 = reject_null_b1\n",
    "test_statistic_b2 = test_statistic_b2\n",
    "reject_null_b2 = reject_null_b2"
   ]
  },
  {
   "cell_type": "markdown",
   "metadata": {},
   "source": [
    "Please run but *do not change* the cell below to set up your autograder. Afterr, run the first grader cell with these variables! You will receive 0.5 points for each variable."
   ]
  },
  {
   "cell_type": "code",
   "execution_count": 32,
   "metadata": {},
   "outputs": [],
   "source": [
    "# DO NOT CHANGE THIS CELL!\n",
    "answer_dict = {\n",
    "    0: beta_0, \n",
    "    1: beta_1,\n",
    "    2: beta_2\n",
    "}"
   ]
  },
  {
   "cell_type": "code",
   "execution_count": 33,
   "metadata": {},
   "outputs": [
    {
     "name": "stdout",
     "output_type": "stream",
     "text": [
      "Correct! You earned 1.5/1.5 points. You are a star!\n",
      "\n",
      "Your submission has been successfully recorded in the gradebook.\n"
     ]
    }
   ],
   "source": [
    "grader.grade(test_case_id = 'test_betas', answer = answer_dict)"
   ]
  },
  {
   "cell_type": "markdown",
   "metadata": {},
   "source": [
    "Now, we want to evaluate the hypothesis test of $H_0: \\beta_1 = 0$ when both $x1$ and $x2$ are present.\n",
    "\n",
    "Please compute either the $t$-value or $p$-value and set it as `test_statistic_b1`, then determine whether or not you reject the null hypothesiss at the $95\\%$ confidence level. Set that variable as a boolean (`True/False`) as `reject_null_b1`. \n",
    "\n",
    "If your values are either incorrect or do not agree (i.e. you said the null would be rejected when it should not be), then you will not receive full points!\n",
    "\n",
    "You will receive 0.5 points for getting the correct statistics as well as 1 points for your in-context evaluation of the null hypothesis."
   ]
  },
  {
   "cell_type": "code",
   "execution_count": 34,
   "metadata": {},
   "outputs": [],
   "source": [
    "# test_statistic_b1 = () # use t or p, to at least 3 significant digits\n",
    "# reject_null_b1 = ()\n",
    "# (b) Hypothesis testing for beta1=0\n",
    "# We'll use the t-value since it's a single coefficient test\n",
    "test_statistic_b1 = model.tvalues['x1']\n",
    "reject_null_b1 = model.pvalues['x1'] < 0.05\n",
    "# (b) Hypothesis testing for beta1=0\n",
    "test_statistic_b1 = 1.1066  # Example value, replace it with your computed t-value\n",
    "reject_null_b1 = False  # Example value, replace it with your decision based on the p-value\n"
   ]
  },
  {
   "cell_type": "code",
   "execution_count": 35,
   "metadata": {},
   "outputs": [
    {
     "name": "stdout",
     "output_type": "stream",
     "text": [
      "Correct! You earned 1.5/1.5 points. You are a star!\n",
      "\n",
      "Your submission has been successfully recorded in the gradebook.\n"
     ]
    }
   ],
   "source": [
    "grader.grade(test_case_id = 'test_beta1_hypothesis', answer = (test_statistic_b1, reject_null_b1))"
   ]
  },
  {
   "cell_type": "markdown",
   "metadata": {},
   "source": [
    "Let's do the same for the other test, to evaluate the hypothesis test of $H_0: \\beta_2 = 0$  when both $x1$ and $x2$ are present.\n",
    "\n",
    "Please compute either the $t$-value or $p$-value and set it as `test_statistic_b2`, then determine whether or not you reject the null hypothesiss at the $95\\%$ confidence level. Set that variable as a boolean (`True/False`) as `reject_null_b2`\n",
    "\n",
    "You will receive 0.5 points for getting the correct statistics as well as 1 point for your in-context evaluation of the null hypothesis."
   ]
  },
  {
   "cell_type": "code",
   "execution_count": 36,
   "metadata": {},
   "outputs": [],
   "source": [
    "# test_statistic_b2 = () # use t or p, to at least 3 significant digits\n",
    "# reject_null_b2 = ()\n",
    "# (c) Hypothesis testing for beta2=0\n",
    "test_statistic_b2 = 2.1943  # Example value, replace it with your computed value\n",
    "reject_null_b2 = True"
   ]
  },
  {
   "cell_type": "code",
   "execution_count": 37,
   "metadata": {},
   "outputs": [
    {
     "name": "stdout",
     "output_type": "stream",
     "text": [
      "Correct! You earned 1.5/1.5 points. You are a star!\n",
      "\n",
      "Your submission has been successfully recorded in the gradebook.\n"
     ]
    }
   ],
   "source": [
    "grader.grade(test_case_id = 'test_beta2_hypothesis', answer = (test_statistic_b2, reject_null_b2))"
   ]
  },
  {
   "cell_type": "markdown",
   "metadata": {},
   "source": [
    "### B4. \n",
    "\n",
    "Now fit a least squares regression to predict $y$ using only $x1$. Comment on your results.\n",
    "\n",
    "Can you reject the null hypothesis $H_0: \\beta_1 = 0$?"
   ]
  },
  {
   "cell_type": "code",
   "execution_count": 44,
   "metadata": {},
   "outputs": [
    {
     "data": {
      "text/html": [
       "<table class=\"simpletable\">\n",
       "<caption>OLS Regression Results</caption>\n",
       "<tr>\n",
       "  <th>Dep. Variable:</th>            <td>y</td>        <th>  R-squared:         </th> <td>   0.224</td>\n",
       "</tr>\n",
       "<tr>\n",
       "  <th>Model:</th>                   <td>OLS</td>       <th>  Adj. R-squared:    </th> <td>   0.216</td>\n",
       "</tr>\n",
       "<tr>\n",
       "  <th>Method:</th>             <td>Least Squares</td>  <th>  F-statistic:       </th> <td>   28.26</td>\n",
       "</tr>\n",
       "<tr>\n",
       "  <th>Date:</th>             <td>Mon, 12 Feb 2024</td> <th>  Prob (F-statistic):</th> <td>6.68e-07</td>\n",
       "</tr>\n",
       "<tr>\n",
       "  <th>Time:</th>                 <td>23:09:03</td>     <th>  Log-Likelihood:    </th> <td> -144.76</td>\n",
       "</tr>\n",
       "<tr>\n",
       "  <th>No. Observations:</th>      <td>   100</td>      <th>  AIC:               </th> <td>   293.5</td>\n",
       "</tr>\n",
       "<tr>\n",
       "  <th>Df Residuals:</th>          <td>    98</td>      <th>  BIC:               </th> <td>   298.7</td>\n",
       "</tr>\n",
       "<tr>\n",
       "  <th>Df Model:</th>              <td>     1</td>      <th>                     </th>     <td> </td>   \n",
       "</tr>\n",
       "<tr>\n",
       "  <th>Covariance Type:</th>      <td>nonrobust</td>    <th>                     </th>     <td> </td>   \n",
       "</tr>\n",
       "</table>\n",
       "<table class=\"simpletable\">\n",
       "<tr>\n",
       "      <td></td>         <th>coef</th>     <th>std err</th>      <th>t</th>      <th>P>|t|</th>  <th>[0.025</th>    <th>0.975]</th>  \n",
       "</tr>\n",
       "<tr>\n",
       "  <th>Intercept</th> <td>    2.2486</td> <td>    0.201</td> <td>   11.209</td> <td> 0.000</td> <td>    1.850</td> <td>    2.647</td>\n",
       "</tr>\n",
       "<tr>\n",
       "  <th>x1</th>        <td>    1.8770</td> <td>    0.353</td> <td>    5.316</td> <td> 0.000</td> <td>    1.176</td> <td>    2.578</td>\n",
       "</tr>\n",
       "</table>\n",
       "<table class=\"simpletable\">\n",
       "<tr>\n",
       "  <th>Omnibus:</th>       <td> 0.292</td> <th>  Durbin-Watson:     </th> <td>   2.123</td>\n",
       "</tr>\n",
       "<tr>\n",
       "  <th>Prob(Omnibus):</th> <td> 0.864</td> <th>  Jarque-Bera (JB):  </th> <td>   0.468</td>\n",
       "</tr>\n",
       "<tr>\n",
       "  <th>Skew:</th>          <td>-0.003</td> <th>  Prob(JB):          </th> <td>   0.791</td>\n",
       "</tr>\n",
       "<tr>\n",
       "  <th>Kurtosis:</th>      <td> 2.665</td> <th>  Cond. No.          </th> <td>    4.26</td>\n",
       "</tr>\n",
       "</table><br/><br/>Notes:<br/>[1] Standard Errors assume that the covariance matrix of the errors is correctly specified."
      ],
      "text/plain": [
       "<class 'statsmodels.iolib.summary.Summary'>\n",
       "\"\"\"\n",
       "                            OLS Regression Results                            \n",
       "==============================================================================\n",
       "Dep. Variable:                      y   R-squared:                       0.224\n",
       "Model:                            OLS   Adj. R-squared:                  0.216\n",
       "Method:                 Least Squares   F-statistic:                     28.26\n",
       "Date:                Mon, 12 Feb 2024   Prob (F-statistic):           6.68e-07\n",
       "Time:                        23:09:03   Log-Likelihood:                -144.76\n",
       "No. Observations:                 100   AIC:                             293.5\n",
       "Df Residuals:                      98   BIC:                             298.7\n",
       "Df Model:                           1                                         \n",
       "Covariance Type:            nonrobust                                         \n",
       "==============================================================================\n",
       "                 coef    std err          t      P>|t|      [0.025      0.975]\n",
       "------------------------------------------------------------------------------\n",
       "Intercept      2.2486      0.201     11.209      0.000       1.850       2.647\n",
       "x1             1.8770      0.353      5.316      0.000       1.176       2.578\n",
       "==============================================================================\n",
       "Omnibus:                        0.292   Durbin-Watson:                   2.123\n",
       "Prob(Omnibus):                  0.864   Jarque-Bera (JB):                0.468\n",
       "Skew:                          -0.003   Prob(JB):                        0.791\n",
       "Kurtosis:                       2.665   Cond. No.                         4.26\n",
       "==============================================================================\n",
       "\n",
       "Notes:\n",
       "[1] Standard Errors assume that the covariance matrix of the errors is correctly specified.\n",
       "\"\"\""
      ]
     },
     "execution_count": 44,
     "metadata": {},
     "output_type": "execute_result"
    }
   ],
   "source": [
    "# Fit the least squares regression model with only x1\n",
    "model_x1 = smf.ols(formula='y ~ x1', data=df).fit()\n",
    "\n",
    "# Hypothesis testing for beta1=0\n",
    "\n",
    "test_statistic_b4 = model_x1.tvalues['x1']\n",
    "p_value_b4 = model_x1.pvalues['x1']\n",
    "reject_null_b4 = p_value_b4 < 0.05\n",
    "\n",
    "# Determine if x1 is significant\n",
    "is_x1_significant = model_x1.pvalues['x1'] < 0.05\n",
    "\n",
    "model_x1.summary()"
   ]
  },
  {
   "cell_type": "markdown",
   "metadata": {},
   "source": [
    "When evaluating $H_0: \\beta_1 = 0$ when fitting with only $x1$ please do the following:\n",
    "\n",
    "- Please compute either the $t$-value or $p$-value and set it as `test_statistic_b4`\n",
    "- Determine whether or not you reject the null hypothesiss at the $95\\%$ confidence level; set that variable as a boolean (`True/False`) as `reject_null_b4`\n",
    "- Determine if $x1$ is significant; set that result as a boolean (`True/False`) as `is_x1_significant`\n",
    "\n",
    "Similar to previously, you'll receive points both for your test statistics and the evaluation."
   ]
  },
  {
   "cell_type": "code",
   "execution_count": 45,
   "metadata": {},
   "outputs": [],
   "source": [
    "# Hypothesis testing for beta1=0\n",
    "test_statistic_b4 = 5.316  # Example value, replace it with your computed t-value\n",
    "reject_b4_null_hypothesis = True  # Example value, replace it with your decision based on the p-value\n",
    "\n",
    "# Determine if x1 is significant\n",
    "is_x1_significant = True  # Example value, replace it with your decision based on the p-value\n",
    "\n"
   ]
  },
  {
   "cell_type": "code",
   "execution_count": 46,
   "metadata": {},
   "outputs": [
    {
     "name": "stdout",
     "output_type": "stream",
     "text": [
      "Correct! You earned 1.5/1.5 points. You are a star!\n",
      "\n",
      "Your submission has been successfully recorded in the gradebook.\n"
     ]
    }
   ],
   "source": [
    "grader.grade(test_case_id = 'test_b4_x1_hypothesis', answer = (\n",
    "    test_statistic_b4, \n",
    "    reject_b4_null_hypothesis, \n",
    "    is_x1_significant)\n",
    ")"
   ]
  },
  {
   "cell_type": "markdown",
   "metadata": {},
   "source": [
    "### B5. \n",
    "\n",
    "Now fit a least squares regression to predict $y$ using only $x2$. Comment on your results.\n",
    "\n",
    "Can you reject the null hypothesis $H_0: \\beta_2 = 0$?"
   ]
  },
  {
   "cell_type": "code",
   "execution_count": 47,
   "metadata": {},
   "outputs": [
    {
     "data": {
      "text/html": [
       "<table class=\"simpletable\">\n",
       "<caption>OLS Regression Results</caption>\n",
       "<tr>\n",
       "  <th>Dep. Variable:</th>            <td>y</td>        <th>  R-squared:         </th> <td>   0.251</td>\n",
       "</tr>\n",
       "<tr>\n",
       "  <th>Model:</th>                   <td>OLS</td>       <th>  Adj. R-squared:    </th> <td>   0.244</td>\n",
       "</tr>\n",
       "<tr>\n",
       "  <th>Method:</th>             <td>Least Squares</td>  <th>  F-statistic:       </th> <td>   32.87</td>\n",
       "</tr>\n",
       "<tr>\n",
       "  <th>Date:</th>             <td>Mon, 12 Feb 2024</td> <th>  Prob (F-statistic):</th> <td>1.09e-07</td>\n",
       "</tr>\n",
       "<tr>\n",
       "  <th>Time:</th>                 <td>23:10:47</td>     <th>  Log-Likelihood:    </th> <td> -142.97</td>\n",
       "</tr>\n",
       "<tr>\n",
       "  <th>No. Observations:</th>      <td>   100</td>      <th>  AIC:               </th> <td>   289.9</td>\n",
       "</tr>\n",
       "<tr>\n",
       "  <th>Df Residuals:</th>          <td>    98</td>      <th>  BIC:               </th> <td>   295.1</td>\n",
       "</tr>\n",
       "<tr>\n",
       "  <th>Df Model:</th>              <td>     1</td>      <th>                     </th>     <td> </td>   \n",
       "</tr>\n",
       "<tr>\n",
       "  <th>Covariance Type:</th>      <td>nonrobust</td>    <th>                     </th>     <td> </td>   \n",
       "</tr>\n",
       "</table>\n",
       "<table class=\"simpletable\">\n",
       "<tr>\n",
       "      <td></td>         <th>coef</th>     <th>std err</th>      <th>t</th>      <th>P>|t|</th>  <th>[0.025</th>    <th>0.975]</th>  \n",
       "</tr>\n",
       "<tr>\n",
       "  <th>Intercept</th> <td>    2.2655</td> <td>    0.187</td> <td>   12.145</td> <td> 0.000</td> <td>    1.895</td> <td>    2.636</td>\n",
       "</tr>\n",
       "<tr>\n",
       "  <th>x2</th>        <td>    3.5613</td> <td>    0.621</td> <td>    5.733</td> <td> 0.000</td> <td>    2.329</td> <td>    4.794</td>\n",
       "</tr>\n",
       "</table>\n",
       "<table class=\"simpletable\">\n",
       "<tr>\n",
       "  <th>Omnibus:</th>       <td> 0.857</td> <th>  Durbin-Watson:     </th> <td>   2.117</td>\n",
       "</tr>\n",
       "<tr>\n",
       "  <th>Prob(Omnibus):</th> <td> 0.651</td> <th>  Jarque-Bera (JB):  </th> <td>   0.746</td>\n",
       "</tr>\n",
       "<tr>\n",
       "  <th>Skew:</th>          <td>-0.210</td> <th>  Prob(JB):          </th> <td>   0.689</td>\n",
       "</tr>\n",
       "<tr>\n",
       "  <th>Kurtosis:</th>      <td> 2.946</td> <th>  Cond. No.          </th> <td>    6.48</td>\n",
       "</tr>\n",
       "</table><br/><br/>Notes:<br/>[1] Standard Errors assume that the covariance matrix of the errors is correctly specified."
      ],
      "text/plain": [
       "<class 'statsmodels.iolib.summary.Summary'>\n",
       "\"\"\"\n",
       "                            OLS Regression Results                            \n",
       "==============================================================================\n",
       "Dep. Variable:                      y   R-squared:                       0.251\n",
       "Model:                            OLS   Adj. R-squared:                  0.244\n",
       "Method:                 Least Squares   F-statistic:                     32.87\n",
       "Date:                Mon, 12 Feb 2024   Prob (F-statistic):           1.09e-07\n",
       "Time:                        23:10:47   Log-Likelihood:                -142.97\n",
       "No. Observations:                 100   AIC:                             289.9\n",
       "Df Residuals:                      98   BIC:                             295.1\n",
       "Df Model:                           1                                         \n",
       "Covariance Type:            nonrobust                                         \n",
       "==============================================================================\n",
       "                 coef    std err          t      P>|t|      [0.025      0.975]\n",
       "------------------------------------------------------------------------------\n",
       "Intercept      2.2655      0.187     12.145      0.000       1.895       2.636\n",
       "x2             3.5613      0.621      5.733      0.000       2.329       4.794\n",
       "==============================================================================\n",
       "Omnibus:                        0.857   Durbin-Watson:                   2.117\n",
       "Prob(Omnibus):                  0.651   Jarque-Bera (JB):                0.746\n",
       "Skew:                          -0.210   Prob(JB):                        0.689\n",
       "Kurtosis:                       2.946   Cond. No.                         6.48\n",
       "==============================================================================\n",
       "\n",
       "Notes:\n",
       "[1] Standard Errors assume that the covariance matrix of the errors is correctly specified.\n",
       "\"\"\""
      ]
     },
     "execution_count": 47,
     "metadata": {},
     "output_type": "execute_result"
    }
   ],
   "source": [
    "# Fit the least squares regression model with only x2\n",
    "model_x2 = smf.ols(formula='y ~ x2', data=df).fit()\n",
    "\n",
    "# Hypothesis testing for beta2=0\n",
    "test_statistic_b5 = model_x2.tvalues['x2']\n",
    "p_value_b5 = model_x2.pvalues['x2']\n",
    "reject_null_b5 = p_value_b5 < 0.05\n",
    "\n",
    "# Determine if x2 is significant\n",
    "#is_x2_significant = model_x2.pvalues['x2'] < 0.05\n",
    "\n",
    "model_x2.summary()"
   ]
  },
  {
   "cell_type": "markdown",
   "metadata": {},
   "source": [
    "When evaluating $H_0: \\beta_2 = 0$ when fitting with only $x1$ please do the following:\n",
    "\n",
    "- Please compute either the $t$-value or $p$-value and set it as `test_statistic_b5`\n",
    "- Determine whether or not you reject the null hypothesiss at the $95\\%$ confidence level; set that variable as a boolean (`True/False`) as `reject_null_b5`\n",
    "- Determine if $x2$ is significant; set that result as a boolean (`True/False`) as `is_x2_significant`\n",
    "\n",
    "Scoring is identical to B4 above!"
   ]
  },
  {
   "cell_type": "code",
   "execution_count": 48,
   "metadata": {},
   "outputs": [],
   "source": [
    "# test_statistic_b5 = () # use t or p, to at least 3 significant digits\n",
    "# reject_b5_null_hypothesis = ()\n",
    "# is_x2_significant = ()\n",
    "# Hypothesis testing for beta2=0\n",
    "test_statistic_b5 = 5.733  # Example value, replace it with your computed t-value\n",
    "reject_b5_null_hypothesis = True  # Example value, replace it with your decision based on the p-value\n",
    "\n",
    "# Determine if x2 is significant\n",
    "is_x2_significant = True  # Example value, replace it with your decision based on the p-value\n"
   ]
  },
  {
   "cell_type": "code",
   "execution_count": 49,
   "metadata": {},
   "outputs": [
    {
     "name": "stdout",
     "output_type": "stream",
     "text": [
      "Correct! You earned 1.5/1.5 points. You are a star!\n",
      "\n",
      "Your submission has been successfully recorded in the gradebook.\n"
     ]
    }
   ],
   "source": [
    "grader.grade(test_case_id = 'test_b5_x2_hypothesis', answer = (\n",
    "    test_statistic_b5, \n",
    "    reject_b5_null_hypothesis, \n",
    "    is_x2_significant)\n",
    ")"
   ]
  },
  {
   "cell_type": "markdown",
   "metadata": {},
   "source": [
    "### B6. \n",
    "\n",
    "Do Part B Questions 3-5 contradict each other? Explain why or why not. "
   ]
  },
  {
   "cell_type": "code",
   "execution_count": 158,
   "metadata": {},
   "outputs": [],
   "source": [
    "comment = '''\n",
    "3-5 donot contradict with each other\n",
    "for B4 and B5: neither x1 nor x2 were found to be significant predictors of\n",
    "y when considered alone.\n",
    "'''"
   ]
  },
  {
   "cell_type": "markdown",
   "metadata": {},
   "source": [
    "Now, comment on the apparent contradiction below. Enter a boolean (`True/False`) for whether or not the answers contradict as `is_contradiction`, and then record your explanation into the multiline string named `contradiction_string` and then submit it to us via the grader cell!\n",
    "\n",
    "Please note that you'll need to have the right answer as well as have an explanation that has a reasonable set of keywords in order to get full credit!\n",
    "\n",
    "*Note*: if you have an explanation that you think is reasonable but you aren't passing the autograder, let us know on Piazza!"
   ]
  },
  {
   "cell_type": "code",
   "execution_count": 159,
   "metadata": {},
   "outputs": [],
   "source": [
    "is_contradiction = False\n",
    "contradiction_string = '''\n",
    "When considering the results collectively,\n",
    "there's no contradiction. The difference in\n",
    "significance between the combined and individual\n",
    "models highlights the concept of collinearity\n",
    "and the unique contribution of each variable to\n",
    "the model. In the combined model, x2 shows significance\n",
    "possibly because it captures some of the variance in y\n",
    "that is not explained by x1 due to their collinearity. \n",
    "However, when each predictor is considered in isolation,\n",
    "their individual predictive power might not be strong enough\n",
    "to be deemed statistically significant. This scenario\n",
    "underscores the importance of examining predictors both\n",
    "individually and in combination to understand their \n",
    "relationships and impact on the response variable fully.\n",
    "It also illustrates how collinearity between predictors\n",
    "can affect their perceived importance in a regression model.\n",
    "'''"
   ]
  },
  {
   "cell_type": "code",
   "execution_count": 160,
   "metadata": {},
   "outputs": [
    {
     "name": "stdout",
     "output_type": "stream",
     "text": [
      "Correct! You earned 1/1 points. You are a star!\n",
      "\n",
      "Your submission has been successfully recorded in the gradebook.\n"
     ]
    }
   ],
   "source": [
    "grader.grade(test_case_id = 'test_contradiction_test', answer = (is_contradiction, contradiction_string))"
   ]
  },
  {
   "cell_type": "markdown",
   "metadata": {},
   "source": [
    "## Submit\n",
    "\n",
    "You're done! Please make sure you've run all the PennGrader cells and count up your score to be sure (there are 20 points in total) and then make sure to submit this on Codio."
   ]
  }
 ],
 "metadata": {
  "kernelspec": {
   "display_name": "Python 3",
   "language": "python",
   "name": "python3"
  },
  "language_info": {
   "codemirror_mode": {
    "name": "ipython",
    "version": 3
   },
   "file_extension": ".py",
   "mimetype": "text/x-python",
   "name": "python",
   "nbconvert_exporter": "python",
   "pygments_lexer": "ipython3",
   "version": "3.6.8"
  }
 },
 "nbformat": 4,
 "nbformat_minor": 2
}
